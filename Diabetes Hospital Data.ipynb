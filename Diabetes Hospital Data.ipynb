{
 "cells": [
  {
   "cell_type": "markdown",
   "metadata": {
    "collapsed": true
   },
   "source": [
    "<span style=\"color:darkblue; font-family:Arial; font-size: 40px;font-weight:bold;\"> &nbsp;&nbsp; Diabetes Care and Readmissions\n",
    "<span style=\"text-align:right;color: grey; font-family:Arial; font-size: 12px;\">June 2017 Contact: Jennifer Michaels </span>"
   ]
  },
  {
   "cell_type": "markdown",
   "metadata": {
    "collapsed": true
   },
   "source": [
    "# Table of contents\n",
    "\n",
    "* Overview\n",
    "* Setup:\n",
    "* [Functions](#functions)\n",
    "* [Loading packages and data](#loading) and setting working directory\n",
    "\n",
    "    \n",
    "    \n",
    "    \n",
    "* [Finding rows and columns](#rows)\n",
    "* [Find mean, max, min, median](#mean) \n",
    "* [Find # records by ICD code](#icd)\n",
    "* [Bar chart of # of records by ICD code](#bar_icd)\n",
    "* [Scatter chart of # of records by ICD vs sum of claims ($)](#scatter)\n",
    "* [What else?](#else)"
   ]
  },
  {
   "cell_type": "markdown",
   "metadata": {},
   "source": [
    "# Overview"
   ]
  },
  {
   "cell_type": "markdown",
   "metadata": {},
   "source": [
    "This project analyzes the \"Diabetes 130-US hospitals\" data for years 1999-2008, aiming to duplicate the logistic model results presented in Strack, et al (2014) and see if other models can improve the fit or add insights.\n"
   ]
  },
  {
   "cell_type": "markdown",
   "metadata": {},
   "source": [
    "Data Source: https://archive.ics.uci.edu/ml/datasets/diabetes\n",
    "        <br>\n",
    "        <br>\n",
    "Article: Beata Strack, Jonathan P. DeShazo, Chris Gennings, Juan L. Olmo, Sebastian Ventura, Krzysztof J. Cios, and John N. Clore, “Impact of HbA1c Measurement on Hospital Readmission Rates: Analysis of 70,000 Clinical Database Patient Records,” BioMed Research International, vol. 2014, Article ID 781670, 11 pages, 2014."
   ]
  },
  {
   "cell_type": "markdown",
   "metadata": {},
   "source": [
    "# Description of Results obtained in paper and data processing done for paper"
   ]
  },
  {
   "cell_type": "markdown",
   "metadata": {},
   "source": [
    "* Results to obtain\n",
    "<br>\n",
    "<br>\n",
    "Regarding HbA1c fequencies and medication changes: \"We examined both the frequency of HbA1c test ordering and the response to its result, which we defined as a change in diabetic medications.\"\n",
    "<br>\n",
    "Regarding HbA1c testing, other features (including interactions) and likelihood of readmission (target variable)"
   ]
  },
  {
   "cell_type": "markdown",
   "metadata": {},
   "source": [
    "* groups\n",
    "<br>\n",
    "<br>\n",
    "\"We considered four groups of encounters: (1) no HbA1c test performed, (2) HbA1c performed and in normal range, (3) HbA1c performed and the result is greater than 8% with no change in diabetic medications, and (4) HbA1c performed, result is greater than 8%, and diabetic medication was changed.\""
   ]
  },
  {
   "cell_type": "markdown",
   "metadata": {},
   "source": [
    "* weight, payor code, medical specialty :: missing value issues\n",
    "<br>\n",
    "<br>\n",
    "'There were several features that could not be treated directly since they had a high percentage of missing values. These features were weight (97% values missing), payer code (40%), and medical specialty (47%). Weight attribute was considered to be too sparse and it was not included in further analysis. Payer code was removed since it had a high percentage of missing values and it was not considered relevant to the outcome. Medical specialty attribute was maintained, adding the value “missing” in order to account for missing values. '"
   ]
  },
  {
   "cell_type": "markdown",
   "metadata": {},
   "source": [
    "* multiple rows per patient :: removing encounters\n",
    "<br>\n",
    "<br>\n",
    "\"The preliminary dataset contained multiple inpatient visits for some patients and the observations could not be considered as statistically independent, an assumption of the logistic regression model. We thus used only one encounter per patient; in particular, we considered only the first encounter for each patient as the primary admission and determined whether or not they were readmitted within 30 days. Additionally, we removed all encounters that resulted in either discharge to a hospice or patient death, to avoid biasing our analysis. After performing the above-described operations, we were left with 69,984 encounters that constituted the final dataset for analysis.\""
   ]
  },
  {
   "cell_type": "markdown",
   "metadata": {},
   "source": [
    "# Setup"
   ]
  },
  {
   "cell_type": "markdown",
   "metadata": {},
   "source": [
    "## <font color = 'orange'> Functions <a id='functions'> </a></font>"
   ]
  },
  {
   "cell_type": "code",
   "execution_count": 2,
   "metadata": {
    "collapsed": false
   },
   "outputs": [],
   "source": [
    "flagger = lambda x: 1 if x>0 else 0"
   ]
  },
  {
   "cell_type": "markdown",
   "metadata": {
    "collapsed": true
   },
   "source": [
    "## <font color='orange'>1.Loading packages and data <a id=\"loading\"></a></font>"
   ]
  },
  {
   "cell_type": "markdown",
   "metadata": {},
   "source": [
    "### general packages"
   ]
  },
  {
   "cell_type": "code",
   "execution_count": 94,
   "metadata": {
    "collapsed": false
   },
   "outputs": [],
   "source": [
    "%matplotlib inline\n",
    "\n",
    "# Standard Libraries\n",
    "import os\n",
    "import re\n",
    "##import memory_profiler\n",
    "import timeit\n",
    "import pandas as pd\n",
    "#import pyodbc\n",
    "from datetime import datetime, timedelta\n",
    "import numpy as np\n",
    "import copy\n",
    "\n",
    "# Specific to this project\n",
    "import getpass\n",
    "\n",
    "\n",
    "# Other\n",
    "import math\n",
    "\n",
    "# Visualization\n",
    "import matplotlib.pyplot as plt\n"
   ]
  },
  {
   "cell_type": "code",
   "execution_count": 4,
   "metadata": {
    "collapsed": false
   },
   "outputs": [],
   "source": [
    "from collections import Counter\n",
    "from sklearn.datasets import make_classification\n",
    "from imblearn.over_sampling import     RandomOverSampler \n"
   ]
  },
  {
   "cell_type": "code",
   "execution_count": 5,
   "metadata": {
    "collapsed": true
   },
   "outputs": [],
   "source": [
    "import timeit"
   ]
  },
  {
   "cell_type": "markdown",
   "metadata": {},
   "source": [
    "### machine learning packages"
   ]
  },
  {
   "cell_type": "code",
   "execution_count": 6,
   "metadata": {
    "collapsed": false
   },
   "outputs": [],
   "source": [
    "# Load libraries and set options.\n",
    "import matplotlib.pyplot as plt\n",
    "# import bandicoot as bc\n",
    "# from tqdm import tqdm_notebook as tqdm  # Interactive progress bar.\n",
    "import glob\n",
    "import os\n",
    "import pandas as pd\n",
    "import numpy as np\n",
    "from scipy.stats import norm\n",
    "%matplotlib inline\n",
    "plt.rcParams['figure.figsize'] = (15, 9) \n",
    "plt.rcParams['axes.titlesize'] = 'large'\n",
    "\n",
    "## For spectral graph partitioning.\n",
    "from sklearn.cluster import spectral_clustering as spc\n",
    "\n",
    "## Supervised learning.\n",
    "from sklearn import svm, linear_model, ensemble, neighbors, tree\n",
    "from sklearn import metrics, preprocessing\n",
    "from sklearn.model_selection import StratifiedKFold, KFold\n",
    "from sklearn.metrics import roc_curve, auc\n",
    "from sklearn.model_selection import GridSearchCV\n",
    "from sklearn.model_selection import cross_val_score\n",
    "from sklearn.model_selection import train_test_split\n",
    "from sklearn.linear_model import LogisticRegression\n",
    "from sklearn.svm import SVC\n",
    "from sklearn.ensemble import RandomForestClassifier\n",
    "from sklearn.pipeline import make_pipeline\n",
    "\n",
    "\n",
    "from mlxtend.classifier import EnsembleVoteClassifier\n",
    "from mlxtend.classifier import Perceptron\n",
    "from mlxtend.classifier import MultiLayerPerceptron as MLP\n",
    "\n",
    "\n",
    "from sklearn.feature_selection import SelectKBest, f_regression"
   ]
  },
  {
   "cell_type": "markdown",
   "metadata": {},
   "source": [
    "## checking and setting working directory"
   ]
  },
  {
   "cell_type": "code",
   "execution_count": 7,
   "metadata": {
    "collapsed": false
   },
   "outputs": [
    {
     "data": {
      "text/plain": [
       "'H:\\\\Jupyter_folder'"
      ]
     },
     "execution_count": 7,
     "metadata": {},
     "output_type": "execute_result"
    }
   ],
   "source": [
    "os.getcwd()"
   ]
  },
  {
   "cell_type": "code",
   "execution_count": 8,
   "metadata": {
    "collapsed": false
   },
   "outputs": [],
   "source": [
    "os.chdir('H:\\Data')"
   ]
  },
  {
   "cell_type": "markdown",
   "metadata": {},
   "source": [
    "# Data import in parts"
   ]
  },
  {
   "cell_type": "code",
   "execution_count": 9,
   "metadata": {
    "collapsed": false
   },
   "outputs": [],
   "source": [
    "# examining the format so that can specify dtype in read_csv\n",
    "import csv\n",
    "#with open('diabetic_data.csv', newline='') as f:\n",
    "with open('diabetic_data.csv') as f:\n",
    "    csv_reader = csv.reader(f)\n",
    "    csv_headings = next(csv_reader)\n",
    "    first_line = next(csv_reader)"
   ]
  },
  {
   "cell_type": "code",
   "execution_count": 10,
   "metadata": {
    "collapsed": false,
    "scrolled": true
   },
   "outputs": [
    {
     "data": {
      "text/plain": [
       "(<_csv.reader at 0xc366ac8>,\n",
       " ['encounter_id',\n",
       "  'patient_nbr',\n",
       "  'race',\n",
       "  'gender',\n",
       "  'age',\n",
       "  'weight',\n",
       "  'admission_type_id',\n",
       "  'discharge_disposition_id',\n",
       "  'admission_source_id',\n",
       "  'time_in_hospital',\n",
       "  'payer_code',\n",
       "  'medical_specialty',\n",
       "  'num_lab_procedures',\n",
       "  'num_procedures',\n",
       "  'num_medications',\n",
       "  'number_outpatient',\n",
       "  'number_emergency',\n",
       "  'number_inpatient',\n",
       "  'diag_1',\n",
       "  'diag_2',\n",
       "  'diag_3',\n",
       "  'number_diagnoses',\n",
       "  'max_glu_serum',\n",
       "  'A1Cresult',\n",
       "  'metformin',\n",
       "  'repaglinide',\n",
       "  'nateglinide',\n",
       "  'chlorpropamide',\n",
       "  'glimepiride',\n",
       "  'acetohexamide',\n",
       "  'glipizide',\n",
       "  'glyburide',\n",
       "  'tolbutamide',\n",
       "  'pioglitazone',\n",
       "  'rosiglitazone',\n",
       "  'acarbose',\n",
       "  'miglitol',\n",
       "  'troglitazone',\n",
       "  'tolazamide',\n",
       "  'examide',\n",
       "  'citoglipton',\n",
       "  'insulin',\n",
       "  'glyburide-metformin',\n",
       "  'glipizide-metformin',\n",
       "  'glimepiride-pioglitazone',\n",
       "  'metformin-rosiglitazone',\n",
       "  'metformin-pioglitazone',\n",
       "  'change',\n",
       "  'diabetesMed',\n",
       "  'readmitted'],\n",
       " ['2278392',\n",
       "  '8222157',\n",
       "  'Caucasian',\n",
       "  'Female',\n",
       "  '[0-10)',\n",
       "  '?',\n",
       "  '6',\n",
       "  '25',\n",
       "  '1',\n",
       "  '1',\n",
       "  '?',\n",
       "  'Pediatrics-Endocrinology',\n",
       "  '41',\n",
       "  '0',\n",
       "  '1',\n",
       "  '0',\n",
       "  '0',\n",
       "  '0',\n",
       "  '250.83',\n",
       "  '?',\n",
       "  '?',\n",
       "  '1',\n",
       "  'None',\n",
       "  'None',\n",
       "  'No',\n",
       "  'No',\n",
       "  'No',\n",
       "  'No',\n",
       "  'No',\n",
       "  'No',\n",
       "  'No',\n",
       "  'No',\n",
       "  'No',\n",
       "  'No',\n",
       "  'No',\n",
       "  'No',\n",
       "  'No',\n",
       "  'No',\n",
       "  'No',\n",
       "  'No',\n",
       "  'No',\n",
       "  'No',\n",
       "  'No',\n",
       "  'No',\n",
       "  'No',\n",
       "  'No',\n",
       "  'No',\n",
       "  'No',\n",
       "  'No',\n",
       "  'NO'])"
      ]
     },
     "execution_count": 10,
     "metadata": {},
     "output_type": "execute_result"
    }
   ],
   "source": [
    "csv_reader, csv_headings, first_line"
   ]
  },
  {
   "cell_type": "code",
   "execution_count": 12,
   "metadata": {
    "collapsed": false
   },
   "outputs": [],
   "source": [
    "df = pd.read_csv('diabetic_data.csv', sep=',',  dtype={'encounter_id': np.str, 'patient_nbr': np.str, 'age': np.str, 'admission_type_id': np.str, 'discharge_disposition_id': np.str, 'admission_source_id': np.str}, delimiter=None, header='infer', names=None, index_col=None)"
   ]
  },
  {
   "cell_type": "code",
   "execution_count": 22,
   "metadata": {
    "collapsed": false
   },
   "outputs": [],
   "source": [
    "# replace all \"?\" with NaN\n",
    "df = df.replace({'?': np.nan})"
   ]
  },
  {
   "cell_type": "code",
   "execution_count": 14,
   "metadata": {
    "collapsed": false
   },
   "outputs": [],
   "source": [
    "df.columns = map(str.lower, df.columns) # convert column names to all lowercase"
   ]
  },
  {
   "cell_type": "code",
   "execution_count": null,
   "metadata": {
    "collapsed": true
   },
   "outputs": [],
   "source": [
    "#df_news_alert['user_id'] = df_rx_alert['user_id'].str.lower()"
   ]
  },
  {
   "cell_type": "code",
   "execution_count": null,
   "metadata": {
    "collapsed": true
   },
   "outputs": [],
   "source": []
  },
  {
   "cell_type": "markdown",
   "metadata": {},
   "source": [
    "## description of data"
   ]
  },
  {
   "cell_type": "code",
   "execution_count": 14,
   "metadata": {
    "collapsed": false,
    "scrolled": true
   },
   "outputs": [
    {
     "data": {
      "text/html": [
       "<div>\n",
       "<table border=\"1\" class=\"dataframe\">\n",
       "  <thead>\n",
       "    <tr style=\"text-align: right;\">\n",
       "      <th></th>\n",
       "      <th>encounter_id</th>\n",
       "      <th>patient_nbr</th>\n",
       "      <th>race</th>\n",
       "      <th>gender</th>\n",
       "      <th>age</th>\n",
       "      <th>weight</th>\n",
       "      <th>admission_type_id</th>\n",
       "      <th>discharge_disposition_id</th>\n",
       "      <th>admission_source_id</th>\n",
       "      <th>time_in_hospital</th>\n",
       "      <th>...</th>\n",
       "      <th>citoglipton</th>\n",
       "      <th>insulin</th>\n",
       "      <th>glyburide-metformin</th>\n",
       "      <th>glipizide-metformin</th>\n",
       "      <th>glimepiride-pioglitazone</th>\n",
       "      <th>metformin-rosiglitazone</th>\n",
       "      <th>metformin-pioglitazone</th>\n",
       "      <th>change</th>\n",
       "      <th>diabetesMed</th>\n",
       "      <th>readmitted</th>\n",
       "    </tr>\n",
       "  </thead>\n",
       "  <tbody>\n",
       "    <tr>\n",
       "      <th>32549</th>\n",
       "      <td>103637322</td>\n",
       "      <td>21939894</td>\n",
       "      <td>AfricanAmerican</td>\n",
       "      <td>Female</td>\n",
       "      <td>[40-50)</td>\n",
       "      <td>?</td>\n",
       "      <td>6</td>\n",
       "      <td>1</td>\n",
       "      <td>17</td>\n",
       "      <td>1</td>\n",
       "      <td>...</td>\n",
       "      <td>No</td>\n",
       "      <td>No</td>\n",
       "      <td>No</td>\n",
       "      <td>No</td>\n",
       "      <td>No</td>\n",
       "      <td>No</td>\n",
       "      <td>No</td>\n",
       "      <td>No</td>\n",
       "      <td>Yes</td>\n",
       "      <td>&gt;30</td>\n",
       "    </tr>\n",
       "    <tr>\n",
       "      <th>92835</th>\n",
       "      <td>327797204</td>\n",
       "      <td>41684229</td>\n",
       "      <td>Caucasian</td>\n",
       "      <td>Male</td>\n",
       "      <td>[80-90)</td>\n",
       "      <td>?</td>\n",
       "      <td>1</td>\n",
       "      <td>3</td>\n",
       "      <td>7</td>\n",
       "      <td>3</td>\n",
       "      <td>...</td>\n",
       "      <td>No</td>\n",
       "      <td>Steady</td>\n",
       "      <td>No</td>\n",
       "      <td>No</td>\n",
       "      <td>No</td>\n",
       "      <td>No</td>\n",
       "      <td>No</td>\n",
       "      <td>Ch</td>\n",
       "      <td>Yes</td>\n",
       "      <td>&lt;30</td>\n",
       "    </tr>\n",
       "  </tbody>\n",
       "</table>\n",
       "<p>2 rows × 50 columns</p>\n",
       "</div>"
      ],
      "text/plain": [
       "      encounter_id patient_nbr             race  gender      age weight  \\\n",
       "32549    103637322    21939894  AfricanAmerican  Female  [40-50)      ?   \n",
       "92835    327797204    41684229        Caucasian    Male  [80-90)      ?   \n",
       "\n",
       "      admission_type_id discharge_disposition_id admission_source_id  \\\n",
       "32549                 6                        1                  17   \n",
       "92835                 1                        3                   7   \n",
       "\n",
       "       time_in_hospital    ...     citoglipton insulin  glyburide-metformin  \\\n",
       "32549                 1    ...              No      No                   No   \n",
       "92835                 3    ...              No  Steady                   No   \n",
       "\n",
       "       glipizide-metformin  glimepiride-pioglitazone  metformin-rosiglitazone  \\\n",
       "32549                   No                        No                       No   \n",
       "92835                   No                        No                       No   \n",
       "\n",
       "       metformin-pioglitazone  change diabetesMed readmitted  \n",
       "32549                      No      No         Yes        >30  \n",
       "92835                      No      Ch         Yes        <30  \n",
       "\n",
       "[2 rows x 50 columns]"
      ]
     },
     "execution_count": 14,
     "metadata": {},
     "output_type": "execute_result"
    }
   ],
   "source": [
    "df.sample(2)"
   ]
  },
  {
   "cell_type": "code",
   "execution_count": 15,
   "metadata": {
    "collapsed": false,
    "scrolled": true
   },
   "outputs": [
    {
     "data": {
      "text/html": [
       "<div>\n",
       "<table border=\"1\" class=\"dataframe\">\n",
       "  <thead>\n",
       "    <tr style=\"text-align: right;\">\n",
       "      <th></th>\n",
       "      <th>time_in_hospital</th>\n",
       "      <th>num_lab_procedures</th>\n",
       "      <th>num_procedures</th>\n",
       "      <th>num_medications</th>\n",
       "      <th>number_outpatient</th>\n",
       "      <th>number_emergency</th>\n",
       "      <th>number_inpatient</th>\n",
       "      <th>number_diagnoses</th>\n",
       "    </tr>\n",
       "  </thead>\n",
       "  <tbody>\n",
       "    <tr>\n",
       "      <th>count</th>\n",
       "      <td>101766.000000</td>\n",
       "      <td>101766.000000</td>\n",
       "      <td>101766.000000</td>\n",
       "      <td>101766.000000</td>\n",
       "      <td>101766.000000</td>\n",
       "      <td>101766.000000</td>\n",
       "      <td>101766.000000</td>\n",
       "      <td>101766.000000</td>\n",
       "    </tr>\n",
       "    <tr>\n",
       "      <th>mean</th>\n",
       "      <td>4.395987</td>\n",
       "      <td>43.095641</td>\n",
       "      <td>1.339730</td>\n",
       "      <td>16.021844</td>\n",
       "      <td>0.369357</td>\n",
       "      <td>0.197836</td>\n",
       "      <td>0.635566</td>\n",
       "      <td>7.422607</td>\n",
       "    </tr>\n",
       "    <tr>\n",
       "      <th>std</th>\n",
       "      <td>2.985108</td>\n",
       "      <td>19.674362</td>\n",
       "      <td>1.705807</td>\n",
       "      <td>8.127566</td>\n",
       "      <td>1.267265</td>\n",
       "      <td>0.930472</td>\n",
       "      <td>1.262863</td>\n",
       "      <td>1.933600</td>\n",
       "    </tr>\n",
       "    <tr>\n",
       "      <th>min</th>\n",
       "      <td>1.000000</td>\n",
       "      <td>1.000000</td>\n",
       "      <td>0.000000</td>\n",
       "      <td>1.000000</td>\n",
       "      <td>0.000000</td>\n",
       "      <td>0.000000</td>\n",
       "      <td>0.000000</td>\n",
       "      <td>1.000000</td>\n",
       "    </tr>\n",
       "    <tr>\n",
       "      <th>25%</th>\n",
       "      <td>2.000000</td>\n",
       "      <td>31.000000</td>\n",
       "      <td>0.000000</td>\n",
       "      <td>10.000000</td>\n",
       "      <td>0.000000</td>\n",
       "      <td>0.000000</td>\n",
       "      <td>0.000000</td>\n",
       "      <td>6.000000</td>\n",
       "    </tr>\n",
       "    <tr>\n",
       "      <th>50%</th>\n",
       "      <td>4.000000</td>\n",
       "      <td>44.000000</td>\n",
       "      <td>1.000000</td>\n",
       "      <td>15.000000</td>\n",
       "      <td>0.000000</td>\n",
       "      <td>0.000000</td>\n",
       "      <td>0.000000</td>\n",
       "      <td>8.000000</td>\n",
       "    </tr>\n",
       "    <tr>\n",
       "      <th>75%</th>\n",
       "      <td>6.000000</td>\n",
       "      <td>57.000000</td>\n",
       "      <td>2.000000</td>\n",
       "      <td>20.000000</td>\n",
       "      <td>0.000000</td>\n",
       "      <td>0.000000</td>\n",
       "      <td>1.000000</td>\n",
       "      <td>9.000000</td>\n",
       "    </tr>\n",
       "    <tr>\n",
       "      <th>max</th>\n",
       "      <td>14.000000</td>\n",
       "      <td>132.000000</td>\n",
       "      <td>6.000000</td>\n",
       "      <td>81.000000</td>\n",
       "      <td>42.000000</td>\n",
       "      <td>76.000000</td>\n",
       "      <td>21.000000</td>\n",
       "      <td>16.000000</td>\n",
       "    </tr>\n",
       "  </tbody>\n",
       "</table>\n",
       "</div>"
      ],
      "text/plain": [
       "       time_in_hospital  num_lab_procedures  num_procedures  num_medications  \\\n",
       "count     101766.000000       101766.000000   101766.000000    101766.000000   \n",
       "mean           4.395987           43.095641        1.339730        16.021844   \n",
       "std            2.985108           19.674362        1.705807         8.127566   \n",
       "min            1.000000            1.000000        0.000000         1.000000   \n",
       "25%            2.000000           31.000000        0.000000        10.000000   \n",
       "50%            4.000000           44.000000        1.000000        15.000000   \n",
       "75%            6.000000           57.000000        2.000000        20.000000   \n",
       "max           14.000000          132.000000        6.000000        81.000000   \n",
       "\n",
       "       number_outpatient  number_emergency  number_inpatient  number_diagnoses  \n",
       "count      101766.000000     101766.000000     101766.000000     101766.000000  \n",
       "mean            0.369357          0.197836          0.635566          7.422607  \n",
       "std             1.267265          0.930472          1.262863          1.933600  \n",
       "min             0.000000          0.000000          0.000000          1.000000  \n",
       "25%             0.000000          0.000000          0.000000          6.000000  \n",
       "50%             0.000000          0.000000          0.000000          8.000000  \n",
       "75%             0.000000          0.000000          1.000000          9.000000  \n",
       "max            42.000000         76.000000         21.000000         16.000000  "
      ]
     },
     "execution_count": 15,
     "metadata": {},
     "output_type": "execute_result"
    }
   ],
   "source": [
    "df.describe()"
   ]
  },
  {
   "cell_type": "markdown",
   "metadata": {},
   "source": [
    "### examine values to make sure text is consistent (e.g. \"none\", \"None\" doesn't exist)"
   ]
  },
  {
   "cell_type": "code",
   "execution_count": 31,
   "metadata": {
    "collapsed": false
   },
   "outputs": [],
   "source": [
    "headers = list(df)"
   ]
  },
  {
   "cell_type": "code",
   "execution_count": 37,
   "metadata": {
    "collapsed": false
   },
   "outputs": [
    {
     "name": "stdout",
     "output_type": "stream",
     "text": [
      "HEADER:  encounter_id ; UNIQUE VALUES:  ['2278392' '149190' '64410' ..., '443854148' '443857166' '443867222']\n",
      "HEADER:  patient_nbr ; UNIQUE VALUES:  ['8222157' '55629189' '86047875' ..., '140199494' '120975314' '175429310']\n",
      "HEADER:  race ; UNIQUE VALUES:  ['Caucasian' 'AfricanAmerican' nan 'Other' 'Asian' 'Hispanic']\n",
      "HEADER:  gender ; UNIQUE VALUES:  ['Female' 'Male' 'Unknown/Invalid']\n",
      "HEADER:  age ; UNIQUE VALUES:  ['[0-10)' '[10-20)' '[20-30)' '[30-40)' '[40-50)' '[50-60)' '[60-70)'\n",
      " '[70-80)' '[80-90)' '[90-100)']\n",
      "HEADER:  weight ; UNIQUE VALUES:  [nan '[75-100)' '[50-75)' '[0-25)' '[100-125)' '[25-50)' '[125-150)'\n",
      " '[175-200)' '[150-175)' '>200']\n",
      "HEADER:  admission_type_id ; UNIQUE VALUES:  ['6' '1' '2' '3' '4' '5' '8' '7']\n",
      "HEADER:  discharge_disposition_id ; UNIQUE VALUES:  ['25' '1' '3' '6' '2' '5' '11' '7' '10' '4' '14' '18' '8' '13' '12' '16'\n",
      " '17' '22' '23' '9' '20' '15' '24' '28' '19' '27']\n",
      "HEADER:  admission_source_id ; UNIQUE VALUES:  ['1' '7' '2' '4' '5' '6' '20' '3' '17' '8' '9' '14' '10' '22' '11' '25'\n",
      " '13']\n",
      "HEADER:  time_in_hospital ; UNIQUE VALUES:  [ 1  3  2  4  5 13 12  9  7 10  6 11  8 14]\n",
      "HEADER:  payer_code ; UNIQUE VALUES:  [nan 'MC' 'MD' 'HM' 'UN' 'BC' 'SP' 'CP' 'SI' 'DM' 'CM' 'CH' 'PO' 'WC' 'OT'\n",
      " 'OG' 'MP' 'FR']\n",
      "HEADER:  medical_specialty ; UNIQUE VALUES:  ['Pediatrics-Endocrinology' nan 'InternalMedicine' 'Family/GeneralPractice'\n",
      " 'Cardiology' 'Surgery-General' 'Orthopedics' 'Gastroenterology'\n",
      " 'Surgery-Cardiovascular/Thoracic' 'Nephrology'\n",
      " 'Orthopedics-Reconstructive' 'Psychiatry' 'Emergency/Trauma' 'Pulmonology'\n",
      " 'Surgery-Neuro' 'Obsterics&Gynecology-GynecologicOnco'\n",
      " 'ObstetricsandGynecology' 'Pediatrics' 'Hematology/Oncology'\n",
      " 'Otolaryngology' 'Surgery-Colon&Rectal' 'Pediatrics-CriticalCare'\n",
      " 'Endocrinology' 'Urology' 'Psychiatry-Child/Adolescent'\n",
      " 'Pediatrics-Pulmonology' 'Neurology' 'Anesthesiology-Pediatric'\n",
      " 'Radiology' 'Pediatrics-Hematology-Oncology' 'Psychology' 'Podiatry'\n",
      " 'Gynecology' 'Oncology' 'Pediatrics-Neurology' 'Surgery-Plastic'\n",
      " 'Surgery-Thoracic' 'Surgery-PlasticwithinHeadandNeck' 'Ophthalmology'\n",
      " 'Surgery-Pediatric' 'Pediatrics-EmergencyMedicine'\n",
      " 'PhysicalMedicineandRehabilitation' 'InfectiousDiseases' 'Anesthesiology'\n",
      " 'Rheumatology' 'AllergyandImmunology' 'Surgery-Maxillofacial'\n",
      " 'Pediatrics-InfectiousDiseases' 'Pediatrics-AllergyandImmunology'\n",
      " 'Dentistry' 'Surgeon' 'Surgery-Vascular' 'Osteopath'\n",
      " 'Psychiatry-Addictive' 'Surgery-Cardiovascular' 'PhysicianNotFound'\n",
      " 'Hematology' 'Proctology' 'Obstetrics' 'SurgicalSpecialty' 'Radiologist'\n",
      " 'Pathology' 'Dermatology' 'SportsMedicine' 'Speech' 'Hospitalist'\n",
      " 'OutreachServices' 'Cardiology-Pediatric' 'Perinatology' 'Neurophysiology'\n",
      " 'Endocrinology-Metabolism' 'DCPTEAM' 'Resident']\n",
      "HEADER:  num_lab_procedures ; UNIQUE VALUES:  [ 41  59  11  44  51  31  70  73  68  33  47  62  60  55  49  75  45  29\n",
      "  35  42  66  36  19  64  25  53  52  87  27  37  46  28  48  72  10   2\n",
      "  65  67  40  54  58  57  43  32  83  34  39  69  38  56  22  96  78  61\n",
      "  88  50   1  18  82   9  63  24  71  77  81  76  90  93   3 103  13  80\n",
      "  85  16  15  12  30  23  17  21  79  26   5  95  97  84  14  74 105  86\n",
      "  98  20   6  94   8 102 100   7  89  91  92   4 101  99 114 113 111 129\n",
      " 107 108 106 104 109 120 132 121 126 118]\n",
      "HEADER:  num_procedures ; UNIQUE VALUES:  [0 5 1 6 2 3 4]\n",
      "HEADER:  num_medications ; UNIQUE VALUES:  [ 1 18 13 16  8 21 12 28 17 11 15 31  2 23 19  7 20 14 10 22  9 27 25  4 32\n",
      "  6 30 26 24 33  5 39  3 29 61 40 46 41 36 34 35 50 43 42 37 51 38 45 54 52\n",
      " 49 62 55 47 44 53 48 57 59 56 60 63 58 70 67 64 69 65 68 66 81 79 75 72 74]\n",
      "HEADER:  number_outpatient ; UNIQUE VALUES:  [ 0  2  1  5  7  9  3  8  4 12 11  6 20 15 10 13 14 16 21 35 17 29 36 18 19\n",
      " 27 22 24 42 39 34 26 33 25 23 28 37 38 40]\n",
      "HEADER:  number_emergency ; UNIQUE VALUES:  [ 0  1  2  4  3  9  5  7  6  8 22 25 10 13 42 16 11 28 15 14 18 12 21 20 19\n",
      " 46 76 37 64 63 54 24 29]\n",
      "HEADER:  number_inpatient ; UNIQUE VALUES:  [ 0  1  2  3  6  5  4  7  8  9 15 10 11 14 12 13 17 16 21 18 19]\n",
      "HEADER:  diag_1 ; UNIQUE VALUES:  ['250.83' '276' '648' '8' '197' '414' '428' '398' '434' '250.7' '157' '518'\n",
      " '999' '410' '682' '402' '737' '572' 'V57' '189' '786' '427' '996' '277'\n",
      " '584' '462' '473' '411' '174' '486' '998' '511' '432' '626' '295' '196'\n",
      " '250.6' '618' '182' '845' '423' '808' '250.4' '722' '403' '250.11' '784'\n",
      " '707' '440' '151' '715' '997' '198' '564' '812' '38' '590' '556' '578'\n",
      " '250.32' '433' 'V58' '569' '185' '536' '255' '250.13' '599' '558' '574'\n",
      " '491' '560' '244' '250.03' '577' '730' '188' '824' '250.8' '332' '562'\n",
      " '291' '296' '510' '401' '263' '438' '70' '250.02' '493' '642' '625' '571'\n",
      " '738' '593' '250.42' '807' '456' '446' '575' '250.41' '820' '515' '780'\n",
      " '250.22' '995' '235' '250.82' '721' '787' '162' '724' '282' '514' 'V55'\n",
      " '281' '250.33' '530' '466' '435' '250.12' 'V53' '789' '566' '822' '191'\n",
      " '557' '733' '455' '711' '482' '202' '280' '553' '225' '154' '441' '250.81'\n",
      " '349' nan '962' '592' '507' '386' '156' '200' '728' '348' '459' '426'\n",
      " '388' '607' '337' '82' '531' '596' '288' '656' '573' '492' '220' '516'\n",
      " '210' '922' '286' '885' '958' '661' '969' '250.93' '227' '112' '404' '823'\n",
      " '532' '416' '346' '535' '453' '250' '595' '211' '303' '250.01' '852' '218'\n",
      " '782' '540' '457' '285' '431' '340' '550' '54' '351' '601' '723' '555'\n",
      " '153' '443' '380' '204' '424' '241' '358' '694' '331' '345' '681' '447'\n",
      " '290' '158' '579' '436' '335' '309' '654' '805' '799' '292' '183' '78'\n",
      " '851' '458' '586' '311' '892' '305' '293' '415' '591' '794' '803' '79'\n",
      " '655' '429' '278' '658' '598' '729' '585' '444' '604' '727' '214' '552'\n",
      " '284' '680' '708' '41' '644' '481' '821' '413' '437' '968' '756' '632'\n",
      " '359' '275' '512' '781' '420' '368' '522' '294' '825' '135' '304' '320'\n",
      " '250.31' '669' '868' '496' '250.43' '826' '567' '3' '203' '53' '251' '565'\n",
      " '161' '495' '49' '250.1' '297' '663' '576' '355' '850' '287' '250.2' '611'\n",
      " '840' '350' '726' '537' '620' '180' '366' '783' '11' '751' '716' '250.3'\n",
      " '199' '464' '580' '836' '664' '283' '813' '966' '289' '965' '184' '480'\n",
      " '608' '333' '972' '212' '117' '788' '924' '959' '621' '238' '785' '714'\n",
      " '942' '250.23' '710' '47' '933' '508' '478' '844' '7' '736' '233' '42'\n",
      " '250.5' '397' '395' '201' '421' '253' '250.92' '600' '494' '977' '39'\n",
      " '659' '312' '614' '647' '652' '646' '274' '861' '425' '527' '451' '485'\n",
      " '217' '250.53' '442' '970' '193' '160' '322' '581' '475' '623' '374' '582'\n",
      " '568' '465' '801' '237' '376' '150' '461' '913' '226' '617' '987' '641'\n",
      " '298' '790' '336' '362' '228' '513' '383' '746' '353' '911' '506' '873'\n",
      " '155' '860' '534' '802' '141' 'V45' '396' '310' '341' '242' '719' '239'\n",
      " '533' '616' '519' '301' 'V66' '5' '989' '230' '385' '300' '853' '871'\n",
      " '570' '848' '463' '9' '934' '250.21' '236' '361' '594' '501' '810' '643'\n",
      " '430' '528' '205' '791' '983' '992' '490' '172' '171' '622' '306' '863'\n",
      " '864' '474' '660' '759' '356' '634' '967' '551' '695' '187' '732' '747'\n",
      " '323' '308' '370' '252' '152' '846' '164' '365' '718' '48' '266' '720'\n",
      " '94' '344' '797' '170' '878' '904' 'V56' '882' '843' '709' '973' '454'\n",
      " '686' '939' '487' '229' '991' '483' '357' '692' '796' '693' '935' '936'\n",
      " '800' '920' 'V26' '261' '307' '262' '250.9' '831' '145' '223' 'V71' '839'\n",
      " '685' 'V54' '35' '34' '179' '964' '136' '324' '389' '815' '334' '143'\n",
      " '526' '588' '192' 'V67' '394' '917' '88' '219' '325' '792' '717' '994'\n",
      " '990' '793' '207' '637' '195' '373' '847' '827' '31' '891' '814' 'V60'\n",
      " '703' '865' '352' '627' '378' '342' '886' '369' '745' '705' '816' '541'\n",
      " '986' '610' '633' '640' '753' '173' '835' '379' '445' '272' '382' '945'\n",
      " '619' '881' '250.52' '866' '405' '916' '215' '893' '75' '671' '928' '906'\n",
      " '897' '725' '867' '115' '890' '734' '521' '674' '470' '834' '146' '696'\n",
      " '524' '980' '691' '384' '142' '879' '250.51' '246' '208' '448' '955' '653'\n",
      " '149' '245' '735' '883' '854' '952' '838' '194' 'V43' '163' '216' '147'\n",
      " '354' '27' '477' '318' '880' '921' '377' '471' '683' '175' '602' '250.91'\n",
      " '982' '706' '375' '417' '131' '347' '870' '148' '862' '61' '817' '914'\n",
      " '360' '684' '314' 'V63' '36' '57' '240' '915' '971' '795' '988' '452'\n",
      " '963' '327' '731' '842' 'V25' '645' '665' '110' '944' '603' '923' '412'\n",
      " '363' '957' '976' '698' '299' '700' '273' '974' '97' '529' '66' '98' '605'\n",
      " '941' '52' '806' '84' '271' '837' '657' '895' '338' '523' '542' '114'\n",
      " '543' '372' 'V70' 'E909' '583' 'V07' '422' '615' '279' '500' '903' '919'\n",
      " '875' '381' '804' '704' '23' '58' '649' '832' '133' '975' '833' '391'\n",
      " '690' '10' 'V51']\n",
      "HEADER:  diag_2 ; UNIQUE VALUES:  [nan '250.01' '250' '250.43' '157' '411' '492' '427' '198' '403' '288'\n",
      " '998' '507' '174' '425' '456' '401' '715' '496' '428' '585' '250.02' '410'\n",
      " '999' '996' '135' '244' '41' '571' '276' '997' '599' '424' '491' '553'\n",
      " '707' '286' '440' '493' '242' '70' 'V45' '250.03' '357' '511' '196' '396'\n",
      " '197' '414' '250.52' '577' '535' '413' '285' '53' '780' '518' '150' '566'\n",
      " '250.6' '867' '486' 'V15' '8' '788' '340' '574' '581' '228' '530' '250.82'\n",
      " '786' '294' '567' '785' '512' '305' '729' '250.51' '280' '648' '560' '618'\n",
      " '444' '38' 'V10' '578' '277' '781' '250.42' '278' '426' '584' '462' '402'\n",
      " '153' '272' '733' '34' '881' '203' '250.41' '250.13' '293' '245' '250.12'\n",
      " '558' '787' '342' '573' '626' '303' '250.53' '458' '710' '415' 'V42' '284'\n",
      " '569' '759' '682' '112' '292' '435' '290' '250.93' '642' '536' '398' '319'\n",
      " '711' 'E878' '446' '255' 'V44' '250.7' '784' '300' '562' '162' '287' '447'\n",
      " '789' '790' '591' '200' '154' '304' '117' '847' '852' '250.83' '250.11'\n",
      " '816' '575' '416' '412' '441' '515' '372' '482' '382' 'V65' '572' '283'\n",
      " '78' '250.81' '576' '432' '595' '295' 'V12' '204' '466' '721' '434' '590'\n",
      " '271' '813' '368' '227' '783' '250.5' '258' '253' '309' '250.91' '519'\n",
      " '333' '459' '250.92' '250.4' '179' '420' '345' '433' '661' '537' '205'\n",
      " '722' '405' '437' '714' '211' 'E812' '263' '202' '397' '250.23' 'E932'\n",
      " '201' '301' '723' '614' '568' '861' 'V57' '724' '189' '297' '453' 'E888'\n",
      " '730' '354' '451' '738' 'E939' '805' 'V43' '155' '910' '218' '358' '220'\n",
      " 'E937' '583' '958' '794' '564' '436' '250.22' '620' '621' '331' '617'\n",
      " '596' '314' '378' '250.8' '625' '478' '731' '172' '404' '681' '470' '279'\n",
      " '281' '531' '443' '799' '337' '311' '719' 'E944' '423' 'E870' '465' 'E849'\n",
      " '782' '481' '480' 'V23' '199' '79' '438' '348' '42' 'E950' '473' '627'\n",
      " '726' '54' '490' '317' '332' '508' '369' '600' '349' '485' '208' '922'\n",
      " '431' '296' 'E934' '753' 'E935' '386' '728' '607' 'E915' '344' '716' '289'\n",
      " '191' '873' '850' '611' '377' '352' '616' 'V17' '136' '455' '933' 'E885'\n",
      " '860' '513' '603' '484' '223' 'V72' '291' '151' 'V58' '550' '510' '891'\n",
      " '185' '592' '791' '138' '598' '336' '362' '217' '825' '298' '821' 'E880'\n",
      " '343' '429' 'E879' '579' '225' '250.9' 'V49' '696' '233' '658' '969' '275'\n",
      " '250.1' '601' '704' '808' 'E890' 'V18' '920' '380' '570' 'E817' '359'\n",
      " '812' '274' 'V14' '324' '758' 'V66' '911' 'E931' 'E924' '593' '792' '727'\n",
      " 'V46' '394' '532' 'V64' '557' '864' '718' 'E942' '807' '604' '924' '820'\n",
      " '580' '273' '241' '282' '824' 'V61' '646' '701' '736' '565' '383' '250.2'\n",
      " 'E947' '452' '872' '905' 'E930' '921' '131' '448' '389' '421' '214' '705'\n",
      " '494' '752' '623' '9' '299' '959' '365' '967' 'E858' '40' '691' '909' '5'\n",
      " '814' '746' '250.31' '556' '680' '745' '351' '306' '110' '695' '552' '346'\n",
      " '918' '882' '947' '520' '188' '31' '356' '737' 'V08' '322' '182' '517'\n",
      " '974' 'E929' 'V53' '912' '252' '608' '516' 'E933' '94' '702' '923' '594'\n",
      " '647' '111' '934' '430' '487' '709' '796' '156' '977' '915' '756' '840'\n",
      " '341' '259' '693' '725' 'V62' '528' '683' '953' '457' '501' 'E900' 'V09'\n",
      " '522' '919' '461' '506' '193' '483' 'E936' '717' '802' '335' 'V54' '320'\n",
      " '945' '906' '239' '454' '826' '823' 'E941' '226' '795' '684' '844'\n",
      " '250.33' '308' '615' '588' '712' '663' '706' '833' '741' '713' '533'\n",
      " 'E884' '586' '555' '755' 'E928' '742' '869' '962' 'V11' '543' '373' '870'\n",
      " '913' '152' '810' '965' '907' '908' '995' '845' '474' '442' '751' '323'\n",
      " '472' '464' '686' '250.32' '540' '251' '811' '652' '659' '851' '422' '815'\n",
      " '307' '325' '463' '992' '692' '521' '917' 'E965' '524' '916' 'E813' '173'\n",
      " '238' '137' '514' '312' '837' '355' '980' '622' '475' '500' '754' '261'\n",
      " '801' '868' '968' '381' '11' '250.21' '694' '610' '734' 'E814' '310' '130'\n",
      " '246' '892' '846' '634' '75' 'E927' 'E905' '183' '379' 'E917' '163' 'E868'\n",
      " '495' '747' '989' 'E854' '240' '832' '605' '602' '644' 'V16' '35' 'V70'\n",
      " '376' '266' 'E918' '619' '477' '656' '46' '883' '171' 'V13' '698' '842'\n",
      " 'E850' '800' '269' '664' 'E887' '952' '164' 'E881' '527' '685' '366' '836'\n",
      " '27' 'V63' '865' '793' '232' '990' '52' '831' '327' '542' '806' '972'\n",
      " '862' 'E829' 'E919' '944' 'E916' '963' '316' '645' '347' 'V85' '374' 'V02'\n",
      " '748' '256' '186' '866' '975' '96' '395' '262' 'E819' '654' '994' '318'\n",
      " 'E826' '879' '674' '641' '822' '145' '797' '353' 'E938' 'E816' '948' '987'\n",
      " '99' '192' '250.3' 'E906' '534' '115' 'E818' 'E980' '360' '338' '529'\n",
      " '871' '750' '212' '302' '955' '141' '88' 'V25' '215' '350' 'V50' 'V03'\n",
      " 'E853' 'E968' 'E882' '140' '703' '991' '893' 'E821' '235' 'V69' '670'\n",
      " '195' 'V55' '388' '268' '894' '114' '260' '853' '7' '880' 'V86' '180'\n",
      " 'E945' '523' '863' '649' '270' '665' '460' '942' '364' '66' 'E883' '123'\n",
      " '884' 'V60' '843' '927']\n",
      "HEADER:  diag_3 ; UNIQUE VALUES:  [nan '255' 'V27' '403' '250' 'V45' '38' '486' '996' '197' '250.6' '427'\n",
      " '627' '414' '416' '714' '428' '582' 'V43' '250.01' '263' '250.42' '276'\n",
      " '482' '401' '250.41' '585' '781' '278' '998' '568' '682' '618' '250.02'\n",
      " '305' '707' '496' '599' '715' '424' '518' '553' '794' '411' 'V42' '531'\n",
      " '511' '490' '562' '250.8' '250.7' '250.52' '784' '491' '581' '420' '8'\n",
      " '724' '730' '789' '131' '250.82' '999' '41' '493' '250.03' '753' '786'\n",
      " '529' 'E888' '425' '595' '303' '560' '711' '492' '332' '296' '438' '362'\n",
      " '250.4' '654' '244' 'V70' '737' '625' '681' '250.51' '404' 'V10' '810'\n",
      " '280' '440' '785' '588' '569' '272' '997' '250.43' '918' '584' '54' '788'\n",
      " '426' '722' '250.92' '196' '461' '535' '787' '891' '284' '458' '648' '780'\n",
      " '182' '285' '593' '413' '664' '564' '201' '356' 'V15' '292' '782' '473'\n",
      " '455' 'E932' '357' '348' '294' '250.23' '459' 'E878' '437' '733' '507'\n",
      " '525' '250.53' '397' '572' '805' '453' '331' '736' '402' '591' '576' '465'\n",
      " '533' '703' '349' '315' '658' '608' '578' '716' '382' '300' '282' '571'\n",
      " '536' '596' '287' '644' 'V11' '558' 'E885' '162' '198' '218' '412' '396'\n",
      " 'V14' '570' '433' 'E934' '882' '288' '577' '443' '729' '836' '295' '799'\n",
      " '281' '304' '153' '410' '616' '250.83' '601' '291' '75' '512' '660'\n",
      " '250.5' '598' '337' '574' '653' 'V58' '311' '415' '386' '602' '790' '112'\n",
      " '873' '620' '436' '70' '155' '138' '663' '530' '710' '42' '342' '250.91'\n",
      " 'E884' '515' '307' '704' '728' '731' '583' '238' '441' '293' '573' '532'\n",
      " '290' '594' '319' '250.13' '250.12' '519' '346' '380' '135' '642' '698'\n",
      " '924' '905' 'E933' '555' '309' 'E879' '286' '565' '752' '580' '446' '444'\n",
      " '344' '252' '35' '813' '394' '301' '575' '258' 'V17' '802' '435' '746'\n",
      " 'V12' '709' '881' 'E935' '139' '250.81' '718' '365' '202' '334' '185'\n",
      " '398' 'V44' '517' 'E849' '614' '466' '626' '250.9' '368' '605' '883' '289'\n",
      " '478' '617' '429' '442' 'V25' '866' '610' '557' '959' 'E942' '94' '920'\n",
      " '345' '313' '379' '79' '516' '586' '821' '600' '242' '373' '592' 'V64'\n",
      " '487' '253' '706' 'E947' '117' '340' 'E950' '656' 'E949' '590' 'V09'\n",
      " '250.22' '934' '694' '203' '250.93' '995' '726' '923' '958' '275' 'E929'\n",
      " '211' 'V18' 'V66' '199' '665' '53' '279' '522' '791' '890' '456' 'E938'\n",
      " 'E816' '122' '721' 'V65' '136' '480' '423' 'E920' '793' '647' '537' '351'\n",
      " '845' '336' '274' '719' '945' '434' '494' '227' '157' '208' '174' 'V57'\n",
      " '812' '734' '150' 'V23' '447' '692' '228' 'V16' '756' '405' 'E928' '823'\n",
      " '552' '528' '389' '240' '454' '792' '366' 'E939' '907' '270' '310' '266'\n",
      " '387' 'E931' '783' '245' '607' '355' 'E930' '705' '372' '369' '611' '283'\n",
      " 'V46' '110' '867' 'E956' '251' '250.2' '820' '712' '695' '567' '343' '723'\n",
      " 'V08' '273' '623' '807' '451' '495' '701' '34' 'V53' '314' '472' 'E945'\n",
      " '11' '189' '534' '354' '333' 'V54' '277' '659' '708' '452' '655' '816'\n",
      " '670' '621' '246' '953' '865' 'E817' '646' '151' '378' '78' '298' '840'\n",
      " '641' '521' '745' '619' '912' '506' 'E904' '259' 'E870' 'E980' '383' '204'\n",
      " '696' '566' '727' '47' 'E943' '358' '191' '965' '921' '432' '27' 'E861'\n",
      " '758' '477' '524' '751' '652' '556' '188' '825' '919' '732' '908' '951'\n",
      " '962' '685' 'E850' 'E944' '527' '341' '693' '250.1' 'V49' '860' '323'\n",
      " 'V55' '579' '508' '969' '205' '462' 'E880' '680' '697' '826' '200' '457'\n",
      " '717' '738' '742' '735' '235' '308' '725' '241' '824' '464' '260' '917'\n",
      " '239' '661' '892' '261' 'E883' '943' '744' 'E936' '796' '318' '967' '350'\n",
      " '854' 'E905' '9' '741' 'E941' '170' '643' '317' '759' '909' 'V22' '831'\n",
      " '713' '180' '801' '360' '359' '501' '335' '250.11' '306' '811' '690' 'V02'\n",
      " '271' '214' '847' '543' 'V63' '906' '842' '686' '445' '808' '861' 'E852'\n",
      " '220' 'E887' 'E858' '915' '970' '256' '747' '395' '243' '815' '481' '5'\n",
      " 'E927' '297' '299' '851' '864' '922' '384' 'E876' '225' '158' 'E937' '871'\n",
      " '88' '966' 'E917' 'E812' 'V62' 'E924' '604' '233' 'E916' '377' '797' 'V72'\n",
      " '172' '7' '421' '852' 'E819' '972' '916' '956' '3' 'E965' '173' '193'\n",
      " '154' '347' '862' '250.3' '987' '470' '262' 'E855' '161' '115' '179' '910'\n",
      " '312' '17' '460' '265' '66' '163' 'V60' '870' 'E906' '514' '944' '844'\n",
      " '417' '152' '183' '991' '216' '385' '164' '935' '510' '814' '485' '850'\n",
      " '250.21' 'E919' '872' '195' '431' '597' '933' '171' '884' '156' '868'\n",
      " '483' 'E815' '542' 'V61' '853' '374' 'E881' 'E882' 'E822' '192' '754'\n",
      " '327' '523' '500' 'V85' '992' '657' '684' '603' 'E826' '550' '913' '376'\n",
      " '755' '361' '186' '720' '250.31' '674' '911' 'E813' '226' '365.44' 'E818'\n",
      " '146' '955' 'E894' '475' 'V13' '880' '930' 'E915' '381' '132' '353' '795'\n",
      " '893' 'V01' 'E853' '863' '540' 'E828' '430' '800' 'E865' '148' 'E946'\n",
      " '822' '879' '848' 'V86' 'V03' '338' '989' '388' 'E966' '111' 'E922' '123'\n",
      " '757' 'E901' '141' '268' 'E892' '649' '702' '948' '223' '484' 'E886' '838'\n",
      " '928' '236' '624' '837' 'E987' 'V07' '841' '622' 'E912' 'E955' '463' 'V06'\n",
      " 'E864' '217' '877' '391' 'E825' '952' '669' '875' 'E900' '215' '538' '980'\n",
      " '834' '448' '175' '49' '876' '230' '57' 'E854' '942' '14' '750' '370'\n",
      " '671' '971']\n",
      "HEADER:  number_diagnoses ; UNIQUE VALUES:  [ 1  9  6  7  5  8  3  4  2 16 12 13 15 10 11 14]\n",
      "HEADER:  max_glu_serum ; UNIQUE VALUES:  ['None' '>300' 'Norm' '>200']\n",
      "HEADER:  a1cresult ; UNIQUE VALUES:  ['None' '>7' '>8' 'Norm']\n",
      "HEADER:  metformin ; UNIQUE VALUES:  ['No' 'Steady' 'Up' 'Down']\n",
      "HEADER:  repaglinide ; UNIQUE VALUES:  ['No' 'Up' 'Steady' 'Down']\n",
      "HEADER:  nateglinide ; UNIQUE VALUES:  ['No' 'Steady' 'Down' 'Up']\n",
      "HEADER:  chlorpropamide ; UNIQUE VALUES:  ['No' 'Steady' 'Down' 'Up']\n",
      "HEADER:  glimepiride ; UNIQUE VALUES:  ['No' 'Steady' 'Down' 'Up']\n",
      "HEADER:  acetohexamide ; UNIQUE VALUES:  ['No' 'Steady']\n",
      "HEADER:  glipizide ; UNIQUE VALUES:  ['No' 'Steady' 'Up' 'Down']\n",
      "HEADER:  glyburide ; UNIQUE VALUES:  ['No' 'Steady' 'Up' 'Down']\n",
      "HEADER:  tolbutamide ; UNIQUE VALUES:  ['No' 'Steady']\n",
      "HEADER:  pioglitazone ; UNIQUE VALUES:  ['No' 'Steady' 'Up' 'Down']\n",
      "HEADER:  rosiglitazone ; UNIQUE VALUES:  ['No' 'Steady' 'Up' 'Down']\n",
      "HEADER:  acarbose ; UNIQUE VALUES:  ['No' 'Steady' 'Up' 'Down']\n",
      "HEADER:  miglitol ; UNIQUE VALUES:  ['No' 'Steady' 'Down' 'Up']\n",
      "HEADER:  troglitazone ; UNIQUE VALUES:  ['No' 'Steady']\n",
      "HEADER:  tolazamide ; UNIQUE VALUES:  ['No' 'Steady' 'Up']\n",
      "HEADER:  examide ; UNIQUE VALUES:  ['No']\n",
      "HEADER:  citoglipton ; UNIQUE VALUES:  ['No']\n",
      "HEADER:  insulin ; UNIQUE VALUES:  ['No' 'Up' 'Steady' 'Down']\n",
      "HEADER:  glyburide-metformin ; UNIQUE VALUES:  ['No' 'Steady' 'Down' 'Up']\n",
      "HEADER:  glipizide-metformin ; UNIQUE VALUES:  ['No' 'Steady']\n",
      "HEADER:  glimepiride-pioglitazone ; UNIQUE VALUES:  ['No' 'Steady']\n",
      "HEADER:  metformin-rosiglitazone ; UNIQUE VALUES:  ['No' 'Steady']\n",
      "HEADER:  metformin-pioglitazone ; UNIQUE VALUES:  ['No' 'Steady']\n",
      "HEADER:  change ; UNIQUE VALUES:  ['No' 'Ch']\n",
      "HEADER:  diabetesmed ; UNIQUE VALUES:  ['No' 'Yes']\n",
      "HEADER:  readmitted ; UNIQUE VALUES:  ['NO' '>30' '<30']\n"
     ]
    }
   ],
   "source": [
    "for x in headers:\n",
    "    print \"HEADER: \", x, \"; UNIQUE VALUES: \", df[x].unique()"
   ]
  },
  {
   "cell_type": "code",
   "execution_count": 38,
   "metadata": {
    "collapsed": false
   },
   "outputs": [
    {
     "data": {
      "text/plain": [
       "'Number of patients in dataset is 71,518'"
      ]
     },
     "execution_count": 38,
     "metadata": {},
     "output_type": "execute_result"
    }
   ],
   "source": [
    "'Number of patients in dataset is {:,}'.format(df['patient_nbr'].nunique())"
   ]
  },
  {
   "cell_type": "code",
   "execution_count": 39,
   "metadata": {
    "collapsed": false
   },
   "outputs": [
    {
     "data": {
      "text/plain": [
       "'Number of records in dataset is 101,766'"
      ]
     },
     "execution_count": 39,
     "metadata": {},
     "output_type": "execute_result"
    }
   ],
   "source": [
    "'Number of records in dataset is {:,}'.format(len(df))"
   ]
  },
  {
   "cell_type": "code",
   "execution_count": 14,
   "metadata": {
    "collapsed": false
   },
   "outputs": [
    {
     "name": "stdout",
     "output_type": "stream",
     "text": [
      "<class 'pandas.core.frame.DataFrame'>\n",
      "RangeIndex: 101766 entries, 0 to 101765\n",
      "Data columns (total 50 columns):\n",
      "encounter_id                101766 non-null object\n",
      "patient_nbr                 101766 non-null object\n",
      "race                        101766 non-null object\n",
      "gender                      101766 non-null object\n",
      "age                         101766 non-null object\n",
      "weight                      101766 non-null object\n",
      "admission_type_id           101766 non-null object\n",
      "discharge_disposition_id    101766 non-null object\n",
      "admission_source_id         101766 non-null object\n",
      "time_in_hospital            101766 non-null int64\n",
      "payer_code                  101766 non-null object\n",
      "medical_specialty           101766 non-null object\n",
      "num_lab_procedures          101766 non-null int64\n",
      "num_procedures              101766 non-null int64\n",
      "num_medications             101766 non-null int64\n",
      "number_outpatient           101766 non-null int64\n",
      "number_emergency            101766 non-null int64\n",
      "number_inpatient            101766 non-null int64\n",
      "diag_1                      101766 non-null object\n",
      "diag_2                      101766 non-null object\n",
      "diag_3                      101766 non-null object\n",
      "number_diagnoses            101766 non-null int64\n",
      "max_glu_serum               101766 non-null object\n",
      "A1Cresult                   101766 non-null object\n",
      "metformin                   101766 non-null object\n",
      "repaglinide                 101766 non-null object\n",
      "nateglinide                 101766 non-null object\n",
      "chlorpropamide              101766 non-null object\n",
      "glimepiride                 101766 non-null object\n",
      "acetohexamide               101766 non-null object\n",
      "glipizide                   101766 non-null object\n",
      "glyburide                   101766 non-null object\n",
      "tolbutamide                 101766 non-null object\n",
      "pioglitazone                101766 non-null object\n",
      "rosiglitazone               101766 non-null object\n",
      "acarbose                    101766 non-null object\n",
      "miglitol                    101766 non-null object\n",
      "troglitazone                101766 non-null object\n",
      "tolazamide                  101766 non-null object\n",
      "examide                     101766 non-null object\n",
      "citoglipton                 101766 non-null object\n",
      "insulin                     101766 non-null object\n",
      "glyburide-metformin         101766 non-null object\n",
      "glipizide-metformin         101766 non-null object\n",
      "glimepiride-pioglitazone    101766 non-null object\n",
      "metformin-rosiglitazone     101766 non-null object\n",
      "metformin-pioglitazone      101766 non-null object\n",
      "change                      101766 non-null object\n",
      "diabetesMed                 101766 non-null object\n",
      "readmitted                  101766 non-null object\n",
      "dtypes: int64(8), object(42)\n",
      "memory usage: 38.8+ MB\n"
     ]
    }
   ],
   "source": [
    "df.info()"
   ]
  },
  {
   "cell_type": "markdown",
   "metadata": {},
   "source": [
    "## groups of encounters"
   ]
  },
  {
   "cell_type": "markdown",
   "metadata": {},
   "source": [
    "* groups\n",
    "<br>\n",
    "<br>\n",
    "\"We considered four groups of encounters: (1) no HbA1c test performed, (2) HbA1c performed and in normal range, (3) HbA1c performed and the result is greater than 8% with no change in diabetic medications, and (4) HbA1c performed, result is greater than 8%, and diabetic medication was changed.\""
   ]
  },
  {
   "cell_type": "markdown",
   "metadata": {},
   "source": [
    "After running the code in this section, we see that the sizes of the groups are: 1) no HbA1c test performed = 84,748; 2) HbA1c performed and in normal range = 4,990; 3) HbA1c performaed and greater than 8% and no change = 2,867; 4) HbA1c performed, greater than 8%, and med changed = 5,349 "
   ]
  },
  {
   "cell_type": "markdown",
   "metadata": {},
   "source": [
    "### finding sizes of groups"
   ]
  },
  {
   "cell_type": "code",
   "execution_count": 41,
   "metadata": {
    "collapsed": false
   },
   "outputs": [
    {
     "data": {
      "text/plain": [
       "None    84748\n",
       ">8       8216\n",
       "Norm     4990\n",
       ">7       3812\n",
       "Name: a1cresult, dtype: int64"
      ]
     },
     "execution_count": 41,
     "metadata": {},
     "output_type": "execute_result"
    }
   ],
   "source": [
    "# Using A1Cresult as signaling whether an HbA1c test was performed\n",
    "df['a1cresult'].value_counts()  "
   ]
  },
  {
   "cell_type": "code",
   "execution_count": 42,
   "metadata": {
    "collapsed": false
   },
   "outputs": [
    {
     "data": {
      "text/plain": [
       "No    54755\n",
       "Ch    47011\n",
       "Name: change, dtype: int64"
      ]
     },
     "execution_count": 42,
     "metadata": {},
     "output_type": "execute_result"
    }
   ],
   "source": [
    "# Using 'change' as signaling whether diabetes med changed\n",
    "df['change'].value_counts()"
   ]
  },
  {
   "cell_type": "code",
   "execution_count": 43,
   "metadata": {
    "collapsed": true
   },
   "outputs": [],
   "source": [
    "df_egroups = df[['a1cresult', 'change']]"
   ]
  },
  {
   "cell_type": "code",
   "execution_count": 45,
   "metadata": {
    "collapsed": false
   },
   "outputs": [
    {
     "data": {
      "text/html": [
       "<div>\n",
       "<table border=\"1\" class=\"dataframe\">\n",
       "  <thead>\n",
       "    <tr style=\"text-align: right;\">\n",
       "      <th></th>\n",
       "      <th>change</th>\n",
       "    </tr>\n",
       "    <tr>\n",
       "      <th>a1cresult</th>\n",
       "      <th></th>\n",
       "    </tr>\n",
       "  </thead>\n",
       "  <tbody>\n",
       "    <tr>\n",
       "      <th>&gt;7</th>\n",
       "      <td>3812</td>\n",
       "    </tr>\n",
       "    <tr>\n",
       "      <th>&gt;8</th>\n",
       "      <td>8216</td>\n",
       "    </tr>\n",
       "    <tr>\n",
       "      <th>None</th>\n",
       "      <td>84748</td>\n",
       "    </tr>\n",
       "    <tr>\n",
       "      <th>Norm</th>\n",
       "      <td>4990</td>\n",
       "    </tr>\n",
       "  </tbody>\n",
       "</table>\n",
       "</div>"
      ],
      "text/plain": [
       "           change\n",
       "a1cresult        \n",
       ">7           3812\n",
       ">8           8216\n",
       "None        84748\n",
       "Norm         4990"
      ]
     },
     "execution_count": 45,
     "metadata": {},
     "output_type": "execute_result"
    }
   ],
   "source": [
    "h =df_egroups.groupby('a1cresult').count()\n",
    "h"
   ]
  },
  {
   "cell_type": "code",
   "execution_count": 46,
   "metadata": {
    "collapsed": false
   },
   "outputs": [
    {
     "data": {
      "text/html": [
       "<div>\n",
       "<table border=\"1\" class=\"dataframe\">\n",
       "  <thead>\n",
       "    <tr style=\"text-align: right;\">\n",
       "      <th>change</th>\n",
       "      <th>Ch</th>\n",
       "      <th>No</th>\n",
       "    </tr>\n",
       "    <tr>\n",
       "      <th>a1cresult</th>\n",
       "      <th></th>\n",
       "      <th></th>\n",
       "    </tr>\n",
       "  </thead>\n",
       "  <tbody>\n",
       "    <tr>\n",
       "      <th>&gt;7</th>\n",
       "      <td>1935</td>\n",
       "      <td>1877</td>\n",
       "    </tr>\n",
       "    <tr>\n",
       "      <th>&gt;8</th>\n",
       "      <td>5349</td>\n",
       "      <td>2867</td>\n",
       "    </tr>\n",
       "    <tr>\n",
       "      <th>None</th>\n",
       "      <td>37521</td>\n",
       "      <td>47227</td>\n",
       "    </tr>\n",
       "    <tr>\n",
       "      <th>Norm</th>\n",
       "      <td>2206</td>\n",
       "      <td>2784</td>\n",
       "    </tr>\n",
       "  </tbody>\n",
       "</table>\n",
       "</div>"
      ],
      "text/plain": [
       "change        Ch     No\n",
       "a1cresult              \n",
       ">7          1935   1877\n",
       ">8          5349   2867\n",
       "None       37521  47227\n",
       "Norm        2206   2784"
      ]
     },
     "execution_count": 46,
     "metadata": {},
     "output_type": "execute_result"
    }
   ],
   "source": [
    "pd.crosstab(df_egroups.a1cresult, df_egroups.change)"
   ]
  },
  {
   "cell_type": "code",
   "execution_count": 49,
   "metadata": {
    "collapsed": false
   },
   "outputs": [
    {
     "data": {
      "text/html": [
       "<div>\n",
       "<table border=\"1\" class=\"dataframe\">\n",
       "  <thead>\n",
       "    <tr style=\"text-align: right;\">\n",
       "      <th>change</th>\n",
       "      <th>Ch</th>\n",
       "      <th>No</th>\n",
       "    </tr>\n",
       "    <tr>\n",
       "      <th>a1cresult</th>\n",
       "      <th></th>\n",
       "      <th></th>\n",
       "    </tr>\n",
       "  </thead>\n",
       "  <tbody>\n",
       "    <tr>\n",
       "      <th>&gt;7</th>\n",
       "      <td>0.041161</td>\n",
       "      <td>0.034280</td>\n",
       "    </tr>\n",
       "    <tr>\n",
       "      <th>&gt;8</th>\n",
       "      <td>0.113782</td>\n",
       "      <td>0.052361</td>\n",
       "    </tr>\n",
       "    <tr>\n",
       "      <th>None</th>\n",
       "      <td>0.798132</td>\n",
       "      <td>0.862515</td>\n",
       "    </tr>\n",
       "    <tr>\n",
       "      <th>Norm</th>\n",
       "      <td>0.046925</td>\n",
       "      <td>0.050845</td>\n",
       "    </tr>\n",
       "  </tbody>\n",
       "</table>\n",
       "</div>"
      ],
      "text/plain": [
       "change           Ch        No\n",
       "a1cresult                    \n",
       ">7         0.041161  0.034280\n",
       ">8         0.113782  0.052361\n",
       "None       0.798132  0.862515\n",
       "Norm       0.046925  0.050845"
      ]
     },
     "execution_count": 49,
     "metadata": {},
     "output_type": "execute_result"
    }
   ],
   "source": [
    "# view distribution of med change status across different a1c results. \n",
    "pd.crosstab(df_egroups.a1cresult, df_egroups.change).apply(lambda r: r/r.sum(), axis=0)\n",
    "## majority of those with a change had no testing, but most patients didn't get testing"
   ]
  },
  {
   "cell_type": "code",
   "execution_count": 50,
   "metadata": {
    "collapsed": false
   },
   "outputs": [
    {
     "data": {
      "text/html": [
       "<div>\n",
       "<table border=\"1\" class=\"dataframe\">\n",
       "  <thead>\n",
       "    <tr style=\"text-align: right;\">\n",
       "      <th>change</th>\n",
       "      <th>Ch</th>\n",
       "      <th>No</th>\n",
       "    </tr>\n",
       "    <tr>\n",
       "      <th>a1cresult</th>\n",
       "      <th></th>\n",
       "      <th></th>\n",
       "    </tr>\n",
       "  </thead>\n",
       "  <tbody>\n",
       "    <tr>\n",
       "      <th>&gt;7</th>\n",
       "      <td>0.507608</td>\n",
       "      <td>0.492392</td>\n",
       "    </tr>\n",
       "    <tr>\n",
       "      <th>&gt;8</th>\n",
       "      <td>0.651047</td>\n",
       "      <td>0.348953</td>\n",
       "    </tr>\n",
       "    <tr>\n",
       "      <th>None</th>\n",
       "      <td>0.442736</td>\n",
       "      <td>0.557264</td>\n",
       "    </tr>\n",
       "    <tr>\n",
       "      <th>Norm</th>\n",
       "      <td>0.442084</td>\n",
       "      <td>0.557916</td>\n",
       "    </tr>\n",
       "  </tbody>\n",
       "</table>\n",
       "</div>"
      ],
      "text/plain": [
       "change           Ch        No\n",
       "a1cresult                    \n",
       ">7         0.507608  0.492392\n",
       ">8         0.651047  0.348953\n",
       "None       0.442736  0.557264\n",
       "Norm       0.442084  0.557916"
      ]
     },
     "execution_count": 50,
     "metadata": {},
     "output_type": "execute_result"
    }
   ],
   "source": [
    "# view distribution of med change stratified by a1c results\n",
    "pd.crosstab(df_egroups.a1cresult, df_egroups.change).apply(lambda r: r/r.sum(), axis=1)\n",
    "## a larger share of patients with high a1c results had med changes than those with non-elevated a1c results"
   ]
  },
  {
   "cell_type": "markdown",
   "metadata": {},
   "source": [
    "### labeling records as belonging in the different groups"
   ]
  },
  {
   "cell_type": "code",
   "execution_count": 53,
   "metadata": {
    "collapsed": false
   },
   "outputs": [],
   "source": [
    "df2 = df.copy()"
   ]
  },
  {
   "cell_type": "code",
   "execution_count": 54,
   "metadata": {
    "collapsed": false
   },
   "outputs": [],
   "source": [
    "def label_encounter (row):\n",
    "   if row['a1cresult'] == 'None' :\n",
    "      return '1'\n",
    "   if row['a1cresult'] == 'Norm' :\n",
    "      return '2'\n",
    "   if row['a1cresult'] == '>8' and row['change']=='No' :\n",
    "      return '3'\n",
    "   if row['a1cresult'] == '>8' and row['change']=='Ch':\n",
    "      return '4'\n",
    " \n",
    "   return 'Other'"
   ]
  },
  {
   "cell_type": "code",
   "execution_count": 55,
   "metadata": {
    "collapsed": false
   },
   "outputs": [],
   "source": [
    "df2['encounter_group'] =df2.apply (lambda row: label_encounter (row),axis=1)"
   ]
  },
  {
   "cell_type": "code",
   "execution_count": 57,
   "metadata": {
    "collapsed": false
   },
   "outputs": [
    {
     "data": {
      "text/html": [
       "<div>\n",
       "<table border=\"1\" class=\"dataframe\">\n",
       "  <thead>\n",
       "    <tr style=\"text-align: right;\">\n",
       "      <th></th>\n",
       "      <th>a1cresult</th>\n",
       "      <th>change</th>\n",
       "    </tr>\n",
       "  </thead>\n",
       "  <tbody>\n",
       "    <tr>\n",
       "      <th>1755</th>\n",
       "      <td>&gt;7</td>\n",
       "      <td>No</td>\n",
       "    </tr>\n",
       "    <tr>\n",
       "      <th>36479</th>\n",
       "      <td>&gt;7</td>\n",
       "      <td>No</td>\n",
       "    </tr>\n",
       "  </tbody>\n",
       "</table>\n",
       "</div>"
      ],
      "text/plain": [
       "      a1cresult change\n",
       "1755         >7     No\n",
       "36479        >7     No"
      ]
     },
     "execution_count": 57,
     "metadata": {},
     "output_type": "execute_result"
    }
   ],
   "source": [
    "# seeing who the \"Other\" cases are...the paper grouping didn't consider when >7, but less than 8.\n",
    "df2[['a1cresult','change']][df2.encounter_group == 'Other'].sample(2)"
   ]
  },
  {
   "cell_type": "code",
   "execution_count": 58,
   "metadata": {
    "collapsed": false
   },
   "outputs": [
    {
     "data": {
      "text/plain": [
       "1        84748\n",
       "4         5349\n",
       "2         4990\n",
       "Other     3812\n",
       "3         2867\n",
       "Name: encounter_group, dtype: int64"
      ]
     },
     "execution_count": 58,
     "metadata": {},
     "output_type": "execute_result"
    }
   ],
   "source": [
    "# another view of counts by encounter groups\n",
    "df2['encounter_group'].value_counts()"
   ]
  },
  {
   "cell_type": "code",
   "execution_count": 59,
   "metadata": {
    "collapsed": false
   },
   "outputs": [],
   "source": [
    "df3 = df2['encounter_group'].value_counts()"
   ]
  },
  {
   "cell_type": "code",
   "execution_count": 60,
   "metadata": {
    "collapsed": false
   },
   "outputs": [
    {
     "data": {
      "text/plain": [
       "<matplotlib.axes._subplots.AxesSubplot at 0x12323da0>"
      ]
     },
     "execution_count": 60,
     "metadata": {},
     "output_type": "execute_result"
    },
    {
     "data": {
      "image/png": "[encoded data removed]",
      "text/plain": [
       "<matplotlib.figure.Figure at 0x12897dd8>"
      ]
     },
     "metadata": {},
     "output_type": "display_data"
    }
   ],
   "source": [
    "df3.plot(kind = 'bar')"
   ]
  },
  {
   "cell_type": "markdown",
   "metadata": {},
   "source": [
    "## Missing values - treat as in paper"
   ]
  },
  {
   "cell_type": "markdown",
   "metadata": {},
   "source": [
    "* weight, payor code, medical specialty :: missing value issues\n",
    "<br>\n",
    "<br>\n",
    "'There were several features that could not be treated directly since they had a high percentage of missing values. These features were weight (97% values missing), payer code (40%), and medical specialty (47%). Weight attribute was considered to be too sparse and it was not included in further analysis. Payer code was removed since it had a high percentage of missing values and it was not considered relevant to the outcome. Medical specialty attribute was maintained, adding the value “missing” in order to account for missing values. '"
   ]
  },
  {
   "cell_type": "code",
   "execution_count": 64,
   "metadata": {
    "collapsed": false
   },
   "outputs": [
    {
     "data": {
      "text/plain": [
       "Index(['encounter_id', 'patient_nbr', 'race', 'gender', 'age', 'weight',\n",
       "       'admission_type_id', 'discharge_disposition_id', 'admission_source_id',\n",
       "       'time_in_hospital', 'payer_code', 'medical_specialty',\n",
       "       'num_lab_procedures', 'num_procedures', 'num_medications',\n",
       "       'number_outpatient', 'number_emergency', 'number_inpatient', 'diag_1',\n",
       "       'diag_2', 'diag_3', 'number_diagnoses', 'max_glu_serum', 'A1Cresult',\n",
       "       'metformin', 'repaglinide', 'nateglinide', 'chlorpropamide',\n",
       "       'glimepiride', 'acetohexamide', 'glipizide', 'glyburide', 'tolbutamide',\n",
       "       'pioglitazone', 'rosiglitazone', 'acarbose', 'miglitol', 'troglitazone',\n",
       "       'tolazamide', 'examide', 'citoglipton', 'insulin',\n",
       "       'glyburide-metformin', 'glipizide-metformin',\n",
       "       'glimepiride-pioglitazone', 'metformin-rosiglitazone',\n",
       "       'metformin-pioglitazone', 'change', 'diabetesMed', 'readmitted',\n",
       "       'encounter_group'],\n",
       "      dtype='object')"
      ]
     },
     "execution_count": 64,
     "metadata": {},
     "output_type": "execute_result"
    }
   ],
   "source": [
    "df2.columns"
   ]
  },
  {
   "cell_type": "code",
   "execution_count": 74,
   "metadata": {
    "collapsed": false
   },
   "outputs": [
    {
     "data": {
      "text/plain": [
       "'Number of records with a weight value is 98,569'"
      ]
     },
     "execution_count": 74,
     "metadata": {},
     "output_type": "execute_result"
    }
   ],
   "source": [
    "# drop weight since rarely present\n",
    "'Number of records with a weight value is {:,}'.format(df['weight'][df.weight.isnull()].size)"
   ]
  },
  {
   "cell_type": "code",
   "execution_count": null,
   "metadata": {
    "collapsed": true
   },
   "outputs": [],
   "source": []
  },
  {
   "cell_type": "code",
   "execution_count": 75,
   "metadata": {
    "collapsed": false
   },
   "outputs": [],
   "source": [
    "# removing weight and payer code due to excessive missing values as in article\n",
    "del df2['weight']\n",
    "del df2['payer_code']"
   ]
  },
  {
   "cell_type": "code",
   "execution_count": 76,
   "metadata": {
    "collapsed": false
   },
   "outputs": [
    {
     "data": {
      "text/plain": [
       "array(['Pediatrics-Endocrinology', nan, 'InternalMedicine',\n",
       "       'Family/GeneralPractice', 'Cardiology', 'Surgery-General',\n",
       "       'Orthopedics', 'Gastroenterology',\n",
       "       'Surgery-Cardiovascular/Thoracic', 'Nephrology',\n",
       "       'Orthopedics-Reconstructive', 'Psychiatry', 'Emergency/Trauma',\n",
       "       'Pulmonology', 'Surgery-Neuro',\n",
       "       'Obsterics&Gynecology-GynecologicOnco', 'ObstetricsandGynecology',\n",
       "       'Pediatrics', 'Hematology/Oncology', 'Otolaryngology',\n",
       "       'Surgery-Colon&Rectal', 'Pediatrics-CriticalCare', 'Endocrinology',\n",
       "       'Urology', 'Psychiatry-Child/Adolescent', 'Pediatrics-Pulmonology',\n",
       "       'Neurology', 'Anesthesiology-Pediatric', 'Radiology',\n",
       "       'Pediatrics-Hematology-Oncology', 'Psychology', 'Podiatry',\n",
       "       'Gynecology', 'Oncology', 'Pediatrics-Neurology', 'Surgery-Plastic',\n",
       "       'Surgery-Thoracic', 'Surgery-PlasticwithinHeadandNeck',\n",
       "       'Ophthalmology', 'Surgery-Pediatric',\n",
       "       'Pediatrics-EmergencyMedicine', 'PhysicalMedicineandRehabilitation',\n",
       "       'InfectiousDiseases', 'Anesthesiology', 'Rheumatology',\n",
       "       'AllergyandImmunology', 'Surgery-Maxillofacial',\n",
       "       'Pediatrics-InfectiousDiseases', 'Pediatrics-AllergyandImmunology',\n",
       "       'Dentistry', 'Surgeon', 'Surgery-Vascular', 'Osteopath',\n",
       "       'Psychiatry-Addictive', 'Surgery-Cardiovascular',\n",
       "       'PhysicianNotFound', 'Hematology', 'Proctology', 'Obstetrics',\n",
       "       'SurgicalSpecialty', 'Radiologist', 'Pathology', 'Dermatology',\n",
       "       'SportsMedicine', 'Speech', 'Hospitalist', 'OutreachServices',\n",
       "       'Cardiology-Pediatric', 'Perinatology', 'Neurophysiology',\n",
       "       'Endocrinology-Metabolism', 'DCPTEAM', 'Resident'], dtype=object)"
      ]
     },
     "execution_count": 76,
     "metadata": {},
     "output_type": "execute_result"
    }
   ],
   "source": [
    "# view possible entries in the medical specialty field\n",
    "df2['medical_specialty'].unique()"
   ]
  },
  {
   "cell_type": "code",
   "execution_count": 77,
   "metadata": {
    "collapsed": false
   },
   "outputs": [
    {
     "data": {
      "text/plain": [
       "31874           InternalMedicine\n",
       "96708            Surgery-General\n",
       "71343           InternalMedicine\n",
       "94144                        NaN\n",
       "71324                        NaN\n",
       "41886                        NaN\n",
       "48013                   Oncology\n",
       "100735                       NaN\n",
       "90226           Emergency/Trauma\n",
       "71480           Emergency/Trauma\n",
       "11018           InternalMedicine\n",
       "1458            InternalMedicine\n",
       "98103     Family/GeneralPractice\n",
       "28008           InternalMedicine\n",
       "70527                        NaN\n",
       "5376      Family/GeneralPractice\n",
       "618             InternalMedicine\n",
       "57138                        NaN\n",
       "33653                Orthopedics\n",
       "31767           InternalMedicine\n",
       "40989                 Nephrology\n",
       "62127                        NaN\n",
       "6687                         NaN\n",
       "27203           InternalMedicine\n",
       "99232                        NaN\n",
       "45225           InternalMedicine\n",
       "49351                        NaN\n",
       "57404                        NaN\n",
       "9910                         NaN\n",
       "95838                        NaN\n",
       "Name: medical_specialty, dtype: object"
      ]
     },
     "execution_count": 77,
     "metadata": {},
     "output_type": "execute_result"
    }
   ],
   "source": [
    "# sample how the medical specialty field is populated\n",
    "df2['medical_specialty'].sample(30)"
   ]
  },
  {
   "cell_type": "code",
   "execution_count": 78,
   "metadata": {
    "collapsed": false
   },
   "outputs": [
    {
     "data": {
      "text/html": [
       "<div>\n",
       "<table border=\"1\" class=\"dataframe\">\n",
       "  <thead>\n",
       "    <tr style=\"text-align: right;\">\n",
       "      <th></th>\n",
       "      <th>encounter_id</th>\n",
       "    </tr>\n",
       "    <tr>\n",
       "      <th>medical_specialty</th>\n",
       "      <th></th>\n",
       "    </tr>\n",
       "  </thead>\n",
       "  <tbody>\n",
       "    <tr>\n",
       "      <th>InternalMedicine</th>\n",
       "      <td>14635</td>\n",
       "    </tr>\n",
       "    <tr>\n",
       "      <th>Emergency/Trauma</th>\n",
       "      <td>7565</td>\n",
       "    </tr>\n",
       "    <tr>\n",
       "      <th>Family/GeneralPractice</th>\n",
       "      <td>7440</td>\n",
       "    </tr>\n",
       "    <tr>\n",
       "      <th>Cardiology</th>\n",
       "      <td>5352</td>\n",
       "    </tr>\n",
       "    <tr>\n",
       "      <th>Surgery-General</th>\n",
       "      <td>3099</td>\n",
       "    </tr>\n",
       "  </tbody>\n",
       "</table>\n",
       "</div>"
      ],
      "text/plain": [
       "                        encounter_id\n",
       "medical_specialty                   \n",
       "InternalMedicine               14635\n",
       "Emergency/Trauma                7565\n",
       "Family/GeneralPractice          7440\n",
       "Cardiology                      5352\n",
       "Surgery-General                 3099"
      ]
     },
     "execution_count": 78,
     "metadata": {},
     "output_type": "execute_result"
    }
   ],
   "source": [
    "# view the top 5 most frequent medical specialty. Note that there are missing values.\n",
    "df2[['encounter_id', 'medical_specialty']].groupby('medical_specialty').count().sort_values(by='encounter_id', ascending = False ).head(5)"
   ]
  },
  {
   "cell_type": "markdown",
   "metadata": {},
   "source": [
    "## putting diagnoses into groups"
   ]
  },
  {
   "cell_type": "code",
   "execution_count": 111,
   "metadata": {
    "collapsed": false
   },
   "outputs": [
    {
     "data": {
      "text/plain": [
       "81968      682\n",
       "7551       403\n",
       "40612      288\n",
       "79449      724\n",
       "25908    250.8\n",
       "86769      715\n",
       "40417      535\n",
       "89384      574\n",
       "88895      296\n",
       "64368      197\n",
       "71524      414\n",
       "33366      428\n",
       "93378      410\n",
       "31191      682\n",
       "91229      584\n",
       "45859      682\n",
       "74789      486\n",
       "91833      284\n",
       "43294    250.7\n",
       "7937       427\n",
       "9200       562\n",
       "Name: diag_1, dtype: object"
      ]
     },
     "execution_count": 111,
     "metadata": {},
     "output_type": "execute_result"
    }
   ],
   "source": [
    "# looking at formate of diag_1 results\n",
    "df2['diag_1'].sample(21)"
   ]
  },
  {
   "cell_type": "code",
   "execution_count": 114,
   "metadata": {
    "collapsed": true
   },
   "outputs": [],
   "source": [
    "match = re.match(r\"([a-z]+)([0-9]+)\", 'V57.8', re.I)\n",
    "if match:\n",
    "    items = match.groups()\n",
    "    # items is (\"foo\", \"21\")"
   ]
  },
  {
   "cell_type": "code",
   "execution_count": 115,
   "metadata": {
    "collapsed": false
   },
   "outputs": [
    {
     "name": "stdout",
     "output_type": "stream",
     "text": [
      "('V', '57')\n"
     ]
    }
   ],
   "source": [
    "print items"
   ]
  },
  {
   "cell_type": "code",
   "execution_count": 116,
   "metadata": {
    "collapsed": false
   },
   "outputs": [],
   "source": [
    "def split_text_num (row):\n",
    "    match = re.match(r\"([a-z]+)([0-9]+)\", row , re.I)\n",
    "    if match:\n",
    "        items = match.groups()\n",
    "    # items is (\"foo\", \"21\")\n",
    "#print items"
   ]
  },
  {
   "cell_type": "code",
   "execution_count": 106,
   "metadata": {
    "collapsed": false
   },
   "outputs": [
    {
     "ename": "TypeError",
     "evalue": "expected string or buffer",
     "output_type": "error",
     "traceback": [
      "\u001b[0;31m---------------------------------------------------------------------------\u001b[0m",
      "\u001b[0;31mTypeError\u001b[0m                                 Traceback (most recent call last)",
      "\u001b[0;32m<ipython-input-106-3983a7d8b772>\u001b[0m in \u001b[0;36m<module>\u001b[0;34m()\u001b[0m\n\u001b[0;32m----> 1\u001b[0;31m \u001b[0mdf2\u001b[0m\u001b[1;33m[\u001b[0m\u001b[1;34m'diag_1_split'\u001b[0m\u001b[1;33m]\u001b[0m \u001b[1;33m=\u001b[0m\u001b[0mdf2\u001b[0m\u001b[1;33m[\u001b[0m\u001b[1;34m'diag_1'\u001b[0m\u001b[1;33m]\u001b[0m\u001b[1;33m.\u001b[0m\u001b[0mapply\u001b[0m\u001b[1;33m(\u001b[0m\u001b[1;32mlambda\u001b[0m \u001b[0mrow\u001b[0m\u001b[1;33m:\u001b[0m \u001b[0msplit_text_num\u001b[0m \u001b[1;33m(\u001b[0m\u001b[0mrow\u001b[0m\u001b[1;33m)\u001b[0m\u001b[1;33m)\u001b[0m\u001b[1;33m\u001b[0m\u001b[0m\n\u001b[0m\u001b[1;32m      2\u001b[0m \u001b[1;31m# df2['diag_1_split']\u001b[0m\u001b[1;33m\u001b[0m\u001b[1;33m\u001b[0m\u001b[0m\n\u001b[1;32m      3\u001b[0m \u001b[1;33m\u001b[0m\u001b[0m\n",
      "\u001b[0;32mC:\\Users\\jmicha02\\Documents\\anaconda_installed\\lib\\site-packages\\pandas\\core\\series.pyc\u001b[0m in \u001b[0;36mapply\u001b[0;34m(self, func, convert_dtype, args, **kwds)\u001b[0m\n\u001b[1;32m   2292\u001b[0m             \u001b[1;32melse\u001b[0m\u001b[1;33m:\u001b[0m\u001b[1;33m\u001b[0m\u001b[0m\n\u001b[1;32m   2293\u001b[0m                 \u001b[0mvalues\u001b[0m \u001b[1;33m=\u001b[0m \u001b[0mself\u001b[0m\u001b[1;33m.\u001b[0m\u001b[0masobject\u001b[0m\u001b[1;33m\u001b[0m\u001b[0m\n\u001b[0;32m-> 2294\u001b[0;31m                 \u001b[0mmapped\u001b[0m \u001b[1;33m=\u001b[0m \u001b[0mlib\u001b[0m\u001b[1;33m.\u001b[0m\u001b[0mmap_infer\u001b[0m\u001b[1;33m(\u001b[0m\u001b[0mvalues\u001b[0m\u001b[1;33m,\u001b[0m \u001b[0mf\u001b[0m\u001b[1;33m,\u001b[0m \u001b[0mconvert\u001b[0m\u001b[1;33m=\u001b[0m\u001b[0mconvert_dtype\u001b[0m\u001b[1;33m)\u001b[0m\u001b[1;33m\u001b[0m\u001b[0m\n\u001b[0m\u001b[1;32m   2295\u001b[0m \u001b[1;33m\u001b[0m\u001b[0m\n\u001b[1;32m   2296\u001b[0m         \u001b[1;32mif\u001b[0m \u001b[0mlen\u001b[0m\u001b[1;33m(\u001b[0m\u001b[0mmapped\u001b[0m\u001b[1;33m)\u001b[0m \u001b[1;32mand\u001b[0m \u001b[0misinstance\u001b[0m\u001b[1;33m(\u001b[0m\u001b[0mmapped\u001b[0m\u001b[1;33m[\u001b[0m\u001b[1;36m0\u001b[0m\u001b[1;33m]\u001b[0m\u001b[1;33m,\u001b[0m \u001b[0mSeries\u001b[0m\u001b[1;33m)\u001b[0m\u001b[1;33m:\u001b[0m\u001b[1;33m\u001b[0m\u001b[0m\n",
      "\u001b[0;32mpandas\\src\\inference.pyx\u001b[0m in \u001b[0;36mpandas.lib.map_infer (pandas\\lib.c:66124)\u001b[0;34m()\u001b[0m\n",
      "\u001b[0;32m<ipython-input-106-3983a7d8b772>\u001b[0m in \u001b[0;36m<lambda>\u001b[0;34m(row)\u001b[0m\n\u001b[0;32m----> 1\u001b[0;31m \u001b[0mdf2\u001b[0m\u001b[1;33m[\u001b[0m\u001b[1;34m'diag_1_split'\u001b[0m\u001b[1;33m]\u001b[0m \u001b[1;33m=\u001b[0m\u001b[0mdf2\u001b[0m\u001b[1;33m[\u001b[0m\u001b[1;34m'diag_1'\u001b[0m\u001b[1;33m]\u001b[0m\u001b[1;33m.\u001b[0m\u001b[0mapply\u001b[0m\u001b[1;33m(\u001b[0m\u001b[1;32mlambda\u001b[0m \u001b[0mrow\u001b[0m\u001b[1;33m:\u001b[0m \u001b[0msplit_text_num\u001b[0m \u001b[1;33m(\u001b[0m\u001b[0mrow\u001b[0m\u001b[1;33m)\u001b[0m\u001b[1;33m)\u001b[0m\u001b[1;33m\u001b[0m\u001b[0m\n\u001b[0m\u001b[1;32m      2\u001b[0m \u001b[1;31m# df2['diag_1_split']\u001b[0m\u001b[1;33m\u001b[0m\u001b[1;33m\u001b[0m\u001b[0m\n\u001b[1;32m      3\u001b[0m \u001b[1;33m\u001b[0m\u001b[0m\n",
      "\u001b[0;32m<ipython-input-104-35d2a398d1e4>\u001b[0m in \u001b[0;36msplit_text_num\u001b[0;34m(row)\u001b[0m\n\u001b[1;32m      1\u001b[0m \u001b[1;32mdef\u001b[0m \u001b[0msplit_text_num\u001b[0m \u001b[1;33m(\u001b[0m\u001b[0mrow\u001b[0m\u001b[1;33m)\u001b[0m\u001b[1;33m:\u001b[0m\u001b[1;33m\u001b[0m\u001b[0m\n\u001b[0;32m----> 2\u001b[0;31m     \u001b[0mmatch\u001b[0m \u001b[1;33m=\u001b[0m \u001b[0mre\u001b[0m\u001b[1;33m.\u001b[0m\u001b[0mmatch\u001b[0m\u001b[1;33m(\u001b[0m\u001b[1;34mr\"([a-z]+)([0-9]+)\"\u001b[0m\u001b[1;33m,\u001b[0m \u001b[0mrow\u001b[0m \u001b[1;33m,\u001b[0m \u001b[0mre\u001b[0m\u001b[1;33m.\u001b[0m\u001b[0mI\u001b[0m\u001b[1;33m)\u001b[0m\u001b[1;33m\u001b[0m\u001b[0m\n\u001b[0m\u001b[1;32m      3\u001b[0m     \u001b[1;32mif\u001b[0m \u001b[0mmatch\u001b[0m\u001b[1;33m:\u001b[0m\u001b[1;33m\u001b[0m\u001b[0m\n\u001b[1;32m      4\u001b[0m         \u001b[0mitems\u001b[0m \u001b[1;33m=\u001b[0m \u001b[0mmatch\u001b[0m\u001b[1;33m.\u001b[0m\u001b[0mgroups\u001b[0m\u001b[1;33m(\u001b[0m\u001b[1;33m)\u001b[0m\u001b[1;33m\u001b[0m\u001b[0m\n\u001b[1;32m      5\u001b[0m     \u001b[1;31m# items is (\"foo\", \"21\")\u001b[0m\u001b[1;33m\u001b[0m\u001b[1;33m\u001b[0m\u001b[0m\n",
      "\u001b[0;32mC:\\Users\\jmicha02\\Documents\\anaconda_installed\\lib\\re.pyc\u001b[0m in \u001b[0;36mmatch\u001b[0;34m(pattern, string, flags)\u001b[0m\n\u001b[1;32m    139\u001b[0m     \"\"\"Try to apply the pattern at the start of the string, returning\n\u001b[1;32m    140\u001b[0m     a match object, or None if no match was found.\"\"\"\n\u001b[0;32m--> 141\u001b[0;31m     \u001b[1;32mreturn\u001b[0m \u001b[0m_compile\u001b[0m\u001b[1;33m(\u001b[0m\u001b[0mpattern\u001b[0m\u001b[1;33m,\u001b[0m \u001b[0mflags\u001b[0m\u001b[1;33m)\u001b[0m\u001b[1;33m.\u001b[0m\u001b[0mmatch\u001b[0m\u001b[1;33m(\u001b[0m\u001b[0mstring\u001b[0m\u001b[1;33m)\u001b[0m\u001b[1;33m\u001b[0m\u001b[0m\n\u001b[0m\u001b[1;32m    142\u001b[0m \u001b[1;33m\u001b[0m\u001b[0m\n\u001b[1;32m    143\u001b[0m \u001b[1;32mdef\u001b[0m \u001b[0msearch\u001b[0m\u001b[1;33m(\u001b[0m\u001b[0mpattern\u001b[0m\u001b[1;33m,\u001b[0m \u001b[0mstring\u001b[0m\u001b[1;33m,\u001b[0m \u001b[0mflags\u001b[0m\u001b[1;33m=\u001b[0m\u001b[1;36m0\u001b[0m\u001b[1;33m)\u001b[0m\u001b[1;33m:\u001b[0m\u001b[1;33m\u001b[0m\u001b[0m\n",
      "\u001b[0;31mTypeError\u001b[0m: expected string or buffer"
     ]
    }
   ],
   "source": [
    "df2['diag_1_split'] =df2['diag_1'].apply(lambda row: split_text_num (row))\n",
    "# df2['diag_1_split']\n",
    "\n"
   ]
  },
  {
   "cell_type": "code",
   "execution_count": null,
   "metadata": {
    "collapsed": true
   },
   "outputs": [],
   "source": []
  },
  {
   "cell_type": "code",
   "execution_count": 87,
   "metadata": {
    "collapsed": false
   },
   "outputs": [
    {
     "name": "stdout",
     "output_type": "stream",
     "text": [
      "115.555555 115.0\n"
     ]
    }
   ],
   "source": [
    "# strip out decimal points\n",
    "numstring = str(115.555555)\n",
    "num = float(numstring[:numstring.find('.')+1])\n",
    "print numstring, num"
   ]
  },
  {
   "cell_type": "code",
   "execution_count": 88,
   "metadata": {
    "collapsed": true
   },
   "outputs": [],
   "source": [
    "def strip_decimals (row):\n",
    "   return float(row[:row.find('.')+1])\n"
   ]
  },
  {
   "cell_type": "code",
   "execution_count": 90,
   "metadata": {
    "collapsed": false
   },
   "outputs": [
    {
     "ename": "ValueError",
     "evalue": "could not convert string to float: ",
     "output_type": "error",
     "traceback": [
      "\u001b[0;31m---------------------------------------------------------------------------\u001b[0m",
      "\u001b[0;31mValueError\u001b[0m                                Traceback (most recent call last)",
      "\u001b[0;32m<ipython-input-90-a27072ee37f8>\u001b[0m in \u001b[0;36m<module>\u001b[0;34m()\u001b[0m\n\u001b[0;32m----> 1\u001b[0;31m \u001b[0mdf2\u001b[0m\u001b[1;33m[\u001b[0m\u001b[1;34m'diag_1_stripped'\u001b[0m\u001b[1;33m]\u001b[0m \u001b[1;33m=\u001b[0m\u001b[0mdf2\u001b[0m\u001b[1;33m[\u001b[0m\u001b[1;34m'diag_1'\u001b[0m\u001b[1;33m]\u001b[0m\u001b[1;33m.\u001b[0m\u001b[0mapply\u001b[0m \u001b[1;33m(\u001b[0m\u001b[1;32mlambda\u001b[0m \u001b[0mrow\u001b[0m\u001b[1;33m:\u001b[0m \u001b[0mstrip_decimals\u001b[0m \u001b[1;33m(\u001b[0m\u001b[0mrow\u001b[0m\u001b[1;33m)\u001b[0m\u001b[1;33m)\u001b[0m\u001b[1;33m\u001b[0m\u001b[0m\n\u001b[0m",
      "\u001b[0;32mC:\\Users\\jmicha02\\Documents\\anaconda_installed\\lib\\site-packages\\pandas\\core\\series.pyc\u001b[0m in \u001b[0;36mapply\u001b[0;34m(self, func, convert_dtype, args, **kwds)\u001b[0m\n\u001b[1;32m   2292\u001b[0m             \u001b[1;32melse\u001b[0m\u001b[1;33m:\u001b[0m\u001b[1;33m\u001b[0m\u001b[0m\n\u001b[1;32m   2293\u001b[0m                 \u001b[0mvalues\u001b[0m \u001b[1;33m=\u001b[0m \u001b[0mself\u001b[0m\u001b[1;33m.\u001b[0m\u001b[0masobject\u001b[0m\u001b[1;33m\u001b[0m\u001b[0m\n\u001b[0;32m-> 2294\u001b[0;31m                 \u001b[0mmapped\u001b[0m \u001b[1;33m=\u001b[0m \u001b[0mlib\u001b[0m\u001b[1;33m.\u001b[0m\u001b[0mmap_infer\u001b[0m\u001b[1;33m(\u001b[0m\u001b[0mvalues\u001b[0m\u001b[1;33m,\u001b[0m \u001b[0mf\u001b[0m\u001b[1;33m,\u001b[0m \u001b[0mconvert\u001b[0m\u001b[1;33m=\u001b[0m\u001b[0mconvert_dtype\u001b[0m\u001b[1;33m)\u001b[0m\u001b[1;33m\u001b[0m\u001b[0m\n\u001b[0m\u001b[1;32m   2295\u001b[0m \u001b[1;33m\u001b[0m\u001b[0m\n\u001b[1;32m   2296\u001b[0m         \u001b[1;32mif\u001b[0m \u001b[0mlen\u001b[0m\u001b[1;33m(\u001b[0m\u001b[0mmapped\u001b[0m\u001b[1;33m)\u001b[0m \u001b[1;32mand\u001b[0m \u001b[0misinstance\u001b[0m\u001b[1;33m(\u001b[0m\u001b[0mmapped\u001b[0m\u001b[1;33m[\u001b[0m\u001b[1;36m0\u001b[0m\u001b[1;33m]\u001b[0m\u001b[1;33m,\u001b[0m \u001b[0mSeries\u001b[0m\u001b[1;33m)\u001b[0m\u001b[1;33m:\u001b[0m\u001b[1;33m\u001b[0m\u001b[0m\n",
      "\u001b[0;32mpandas\\src\\inference.pyx\u001b[0m in \u001b[0;36mpandas.lib.map_infer (pandas\\lib.c:66124)\u001b[0;34m()\u001b[0m\n",
      "\u001b[0;32m<ipython-input-90-a27072ee37f8>\u001b[0m in \u001b[0;36m<lambda>\u001b[0;34m(row)\u001b[0m\n\u001b[0;32m----> 1\u001b[0;31m \u001b[0mdf2\u001b[0m\u001b[1;33m[\u001b[0m\u001b[1;34m'diag_1_stripped'\u001b[0m\u001b[1;33m]\u001b[0m \u001b[1;33m=\u001b[0m\u001b[0mdf2\u001b[0m\u001b[1;33m[\u001b[0m\u001b[1;34m'diag_1'\u001b[0m\u001b[1;33m]\u001b[0m\u001b[1;33m.\u001b[0m\u001b[0mapply\u001b[0m \u001b[1;33m(\u001b[0m\u001b[1;32mlambda\u001b[0m \u001b[0mrow\u001b[0m\u001b[1;33m:\u001b[0m \u001b[0mstrip_decimals\u001b[0m \u001b[1;33m(\u001b[0m\u001b[0mrow\u001b[0m\u001b[1;33m)\u001b[0m\u001b[1;33m)\u001b[0m\u001b[1;33m\u001b[0m\u001b[0m\n\u001b[0m",
      "\u001b[0;32m<ipython-input-88-dfd332094fc5>\u001b[0m in \u001b[0;36mstrip_decimals\u001b[0;34m(row)\u001b[0m\n\u001b[1;32m      1\u001b[0m \u001b[1;32mdef\u001b[0m \u001b[0mstrip_decimals\u001b[0m \u001b[1;33m(\u001b[0m\u001b[0mrow\u001b[0m\u001b[1;33m)\u001b[0m\u001b[1;33m:\u001b[0m\u001b[1;33m\u001b[0m\u001b[0m\n\u001b[0;32m----> 2\u001b[0;31m    \u001b[1;32mreturn\u001b[0m \u001b[0mfloat\u001b[0m\u001b[1;33m(\u001b[0m\u001b[0mrow\u001b[0m\u001b[1;33m[\u001b[0m\u001b[1;33m:\u001b[0m\u001b[0mrow\u001b[0m\u001b[1;33m.\u001b[0m\u001b[0mfind\u001b[0m\u001b[1;33m(\u001b[0m\u001b[1;34m'.'\u001b[0m\u001b[1;33m)\u001b[0m\u001b[1;33m+\u001b[0m\u001b[1;36m1\u001b[0m\u001b[1;33m]\u001b[0m\u001b[1;33m)\u001b[0m\u001b[1;33m\u001b[0m\u001b[0m\n\u001b[0m",
      "\u001b[0;31mValueError\u001b[0m: could not convert string to float: "
     ]
    }
   ],
   "source": [
    "df2['diag_1_stripped'] =df2['diag_1'].apply (lambda row: strip_decimals (row))"
   ]
  },
  {
   "cell_type": "code",
   "execution_count": null,
   "metadata": {
    "collapsed": true
   },
   "outputs": [],
   "source": []
  },
  {
   "cell_type": "code",
   "execution_count": null,
   "metadata": {
    "collapsed": true
   },
   "outputs": [],
   "source": []
  },
  {
   "cell_type": "code",
   "execution_count": null,
   "metadata": {
    "collapsed": true
   },
   "outputs": [],
   "source": []
  },
  {
   "cell_type": "code",
   "execution_count": 81,
   "metadata": {
    "collapsed": false
   },
   "outputs": [
    {
     "data": {
      "text/plain": [
       "428       6862\n",
       "414       6581\n",
       "786       4016\n",
       "410       3614\n",
       "486       3508\n",
       "427       2766\n",
       "491       2275\n",
       "715       2151\n",
       "682       2042\n",
       "434       2028\n",
       "780       2019\n",
       "996       1967\n",
       "276       1889\n",
       "38        1688\n",
       "250.8     1680\n",
       "599       1595\n",
       "584       1520\n",
       "V57       1207\n",
       "250.6     1183\n",
       "518       1115\n",
       "820       1082\n",
       "577       1057\n",
       "493       1056\n",
       "435       1016\n",
       "562        989\n",
       "574        965\n",
       "296        896\n",
       "560        876\n",
       "250.7      871\n",
       "250.13     851\n",
       "          ... \n",
       "833          1\n",
       "838          1\n",
       "939          1\n",
       "318          1\n",
       "314          1\n",
       "148          1\n",
       "160          1\n",
       "299          1\n",
       "885          1\n",
       "347          1\n",
       "477          1\n",
       "471          1\n",
       "804          1\n",
       "V25          1\n",
       "895          1\n",
       "325          1\n",
       "834          1\n",
       "982          1\n",
       "250.51       1\n",
       "988          1\n",
       "640          1\n",
       "817          1\n",
       "649          1\n",
       "957          1\n",
       "955          1\n",
       "133          1\n",
       "870          1\n",
       "145          1\n",
       "143          1\n",
       "671          1\n",
       "Name: diag_1, dtype: int64"
      ]
     },
     "execution_count": 81,
     "metadata": {},
     "output_type": "execute_result"
    }
   ],
   "source": [
    "df2['diag_1'].value_counts()"
   ]
  },
  {
   "cell_type": "markdown",
   "metadata": {},
   "source": [
    "# <font color = red > Machine Learning Section"
   ]
  },
  {
   "cell_type": "markdown",
   "metadata": {},
   "source": [
    "# Logistic Regression in Steps like in paper"
   ]
  },
  {
   "cell_type": "code",
   "execution_count": null,
   "metadata": {
    "collapsed": true
   },
   "outputs": [],
   "source": [
    "### feature matrix :: without a1c result"
   ]
  },
  {
   "cell_type": "code",
   "execution_count": null,
   "metadata": {
    "collapsed": true
   },
   "outputs": [],
   "source": []
  },
  {
   "cell_type": "code",
   "execution_count": 92,
   "metadata": {
    "collapsed": false
   },
   "outputs": [],
   "source": [
    "X_dummy = pd.get_dummies(x_undummy_indexed, prefix='f',dummy_na=True)"
   ]
  },
  {
   "cell_type": "code",
   "execution_count": 20,
   "metadata": {
    "collapsed": false
   },
   "outputs": [
    {
     "ename": "NameError",
     "evalue": "name 'X_dummy' is not defined",
     "output_type": "error",
     "traceback": [
      "\u001b[0;31m---------------------------------------------------------------------------\u001b[0m",
      "\u001b[0;31mNameError\u001b[0m                                 Traceback (most recent call last)",
      "\u001b[0;32m<ipython-input-20-188bc3fcdfe1>\u001b[0m in \u001b[0;36m<module>\u001b[0;34m()\u001b[0m\n\u001b[0;32m----> 1\u001b[0;31m \u001b[0mX_dummy\u001b[0m\u001b[1;33m.\u001b[0m\u001b[0mhead\u001b[0m\u001b[1;33m(\u001b[0m\u001b[1;36m3\u001b[0m\u001b[1;33m)\u001b[0m\u001b[1;33m\u001b[0m\u001b[0m\n\u001b[0m",
      "\u001b[0;31mNameError\u001b[0m: name 'X_dummy' is not defined"
     ]
    }
   ],
   "source": [
    "X_dummy.head(3)"
   ]
  },
  {
   "cell_type": "markdown",
   "metadata": {},
   "source": [
    "### getting to single row for each member"
   ]
  },
  {
   "cell_type": "code",
   "execution_count": 19,
   "metadata": {
    "collapsed": false
   },
   "outputs": [
    {
     "ename": "NameError",
     "evalue": "name 'X_dummy' is not defined",
     "output_type": "error",
     "traceback": [
      "\u001b[0;31m---------------------------------------------------------------------------\u001b[0m",
      "\u001b[0;31mNameError\u001b[0m                                 Traceback (most recent call last)",
      "\u001b[0;32m<ipython-input-19-dc6c42ca02e6>\u001b[0m in \u001b[0;36m<module>\u001b[0;34m()\u001b[0m\n\u001b[0;32m----> 1\u001b[0;31m \u001b[0mX_dummy\u001b[0m\u001b[1;33m.\u001b[0m\u001b[0mgroupby\u001b[0m\u001b[1;33m(\u001b[0m\u001b[0mX_dummy\u001b[0m\u001b[1;33m.\u001b[0m\u001b[0mindex\u001b[0m\u001b[1;33m)\u001b[0m\u001b[1;33m.\u001b[0m\u001b[0msum\u001b[0m\u001b[1;33m(\u001b[0m\u001b[1;33m)\u001b[0m\u001b[1;33m.\u001b[0m\u001b[0mhead\u001b[0m\u001b[1;33m(\u001b[0m\u001b[1;33m)\u001b[0m\u001b[1;33m\u001b[0m\u001b[0m\n\u001b[0m",
      "\u001b[0;31mNameError\u001b[0m: name 'X_dummy' is not defined"
     ]
    }
   ],
   "source": [
    "X_dummy.groupby(X_dummy.index).sum().head()\n"
   ]
  },
  {
   "cell_type": "code",
   "execution_count": 102,
   "metadata": {
    "collapsed": false
   },
   "outputs": [],
   "source": [
    "x_grouped = X_dummy.groupby(X_dummy.index).sum()"
   ]
  },
  {
   "cell_type": "code",
   "execution_count": 103,
   "metadata": {
    "collapsed": false
   },
   "outputs": [
    {
     "data": {
      "text/plain": [
       "pandas.core.frame.DataFrame"
      ]
     },
     "execution_count": 103,
     "metadata": {},
     "output_type": "execute_result"
    }
   ],
   "source": [
    "type(x_grouped)"
   ]
  },
  {
   "cell_type": "code",
   "execution_count": 97,
   "metadata": {
    "collapsed": false
   },
   "outputs": [],
   "source": [
    "flagger = lambda x: 1 if x>0 else 0"
   ]
  },
  {
   "cell_type": "code",
   "execution_count": 104,
   "metadata": {
    "collapsed": false
   },
   "outputs": [],
   "source": [
    "x_flat = x_grouped.applymap(flagger)"
   ]
  },
  {
   "cell_type": "code",
   "execution_count": 21,
   "metadata": {
    "collapsed": false
   },
   "outputs": [
    {
     "ename": "NameError",
     "evalue": "name 'x_flat' is not defined",
     "output_type": "error",
     "traceback": [
      "\u001b[0;31m---------------------------------------------------------------------------\u001b[0m",
      "\u001b[0;31mNameError\u001b[0m                                 Traceback (most recent call last)",
      "\u001b[0;32m<ipython-input-21-d8d0a12cf01b>\u001b[0m in \u001b[0;36m<module>\u001b[0;34m()\u001b[0m\n\u001b[0;32m----> 1\u001b[0;31m \u001b[0mx_flat\u001b[0m\u001b[1;33m.\u001b[0m\u001b[0msample\u001b[0m\u001b[1;33m(\u001b[0m\u001b[1;36m5\u001b[0m\u001b[1;33m)\u001b[0m\u001b[1;33m\u001b[0m\u001b[0m\n\u001b[0m",
      "\u001b[0;31mNameError\u001b[0m: name 'x_flat' is not defined"
     ]
    }
   ],
   "source": [
    "x_flat.sample(5)"
   ]
  },
  {
   "cell_type": "code",
   "execution_count": 22,
   "metadata": {
    "collapsed": false
   },
   "outputs": [
    {
     "ename": "NameError",
     "evalue": "name 'x_flat' is not defined",
     "output_type": "error",
     "traceback": [
      "\u001b[0;31m---------------------------------------------------------------------------\u001b[0m",
      "\u001b[0;31mNameError\u001b[0m                                 Traceback (most recent call last)",
      "\u001b[0;32m<ipython-input-22-ee1876d676ca>\u001b[0m in \u001b[0;36m<module>\u001b[0;34m()\u001b[0m\n\u001b[0;32m----> 1\u001b[0;31m \u001b[0mx_flat\u001b[0m\u001b[1;33m.\u001b[0m\u001b[0mdescribe\u001b[0m\u001b[1;33m(\u001b[0m\u001b[1;33m)\u001b[0m\u001b[1;33m\u001b[0m\u001b[0m\n\u001b[0m",
      "\u001b[0;31mNameError\u001b[0m: name 'x_flat' is not defined"
     ]
    }
   ],
   "source": [
    "x_flat.describe()"
   ]
  },
  {
   "cell_type": "markdown",
   "metadata": {},
   "source": [
    "## target table"
   ]
  },
  {
   "cell_type": "markdown",
   "metadata": {},
   "source": [
    "## imbalanced data"
   ]
  },
  {
   "cell_type": "markdown",
   "metadata": {},
   "source": [
    "# Oversampling "
   ]
  },
  {
   "cell_type": "markdown",
   "metadata": {},
   "source": [
    "Adjust Xs and y."
   ]
  },
  {
   "cell_type": "code",
   "execution_count": 23,
   "metadata": {
    "collapsed": false
   },
   "outputs": [
    {
     "ename": "NameError",
     "evalue": "name 'make_classification' is not defined",
     "output_type": "error",
     "traceback": [
      "\u001b[0;31m---------------------------------------------------------------------------\u001b[0m",
      "\u001b[0;31mNameError\u001b[0m                                 Traceback (most recent call last)",
      "\u001b[0;32m<ipython-input-23-fbd29294e4b1>\u001b[0m in \u001b[0;36m<module>\u001b[0;34m()\u001b[0m\n\u001b[1;32m      1\u001b[0m \u001b[1;31m# EXAMPLE\u001b[0m\u001b[1;33m\u001b[0m\u001b[1;33m\u001b[0m\u001b[0m\n\u001b[0;32m----> 2\u001b[0;31m \u001b[0mX_e\u001b[0m\u001b[1;33m,\u001b[0m \u001b[0my_e\u001b[0m \u001b[1;33m=\u001b[0m \u001b[0mmake_classification\u001b[0m\u001b[1;33m(\u001b[0m\u001b[0mn_classes\u001b[0m\u001b[1;33m=\u001b[0m\u001b[1;36m2\u001b[0m\u001b[1;33m,\u001b[0m \u001b[0mclass_sep\u001b[0m\u001b[1;33m=\u001b[0m\u001b[1;36m2\u001b[0m\u001b[1;33m,\u001b[0m \u001b[0mweights\u001b[0m\u001b[1;33m=\u001b[0m\u001b[1;33m[\u001b[0m\u001b[1;36m0.1\u001b[0m\u001b[1;33m,\u001b[0m \u001b[1;36m0.9\u001b[0m\u001b[1;33m]\u001b[0m\u001b[1;33m,\u001b[0m \u001b[0mn_informative\u001b[0m\u001b[1;33m=\u001b[0m\u001b[1;36m3\u001b[0m\u001b[1;33m,\u001b[0m \u001b[0mn_redundant\u001b[0m\u001b[1;33m=\u001b[0m\u001b[1;36m1\u001b[0m\u001b[1;33m,\u001b[0m \u001b[0mflip_y\u001b[0m\u001b[1;33m=\u001b[0m\u001b[1;36m0\u001b[0m\u001b[1;33m,\u001b[0m \u001b[0mn_features\u001b[0m\u001b[1;33m=\u001b[0m\u001b[1;36m20\u001b[0m\u001b[1;33m,\u001b[0m \u001b[0mn_clusters_per_class\u001b[0m\u001b[1;33m=\u001b[0m\u001b[1;36m1\u001b[0m\u001b[1;33m,\u001b[0m \u001b[0mn_samples\u001b[0m\u001b[1;33m=\u001b[0m\u001b[1;36m1000\u001b[0m\u001b[1;33m,\u001b[0m \u001b[0mrandom_state\u001b[0m\u001b[1;33m=\u001b[0m\u001b[1;36m10\u001b[0m\u001b[1;33m)\u001b[0m\u001b[1;33m\u001b[0m\u001b[0m\n\u001b[0m\u001b[1;32m      3\u001b[0m \u001b[1;33m\u001b[0m\u001b[0m\n\u001b[1;32m      4\u001b[0m \u001b[1;32mprint\u001b[0m\u001b[1;33m(\u001b[0m\u001b[1;34m'Original dataset shape {}'\u001b[0m\u001b[1;33m.\u001b[0m\u001b[0mformat\u001b[0m\u001b[1;33m(\u001b[0m\u001b[0mCounter\u001b[0m\u001b[1;33m(\u001b[0m\u001b[0my\u001b[0m\u001b[1;33m)\u001b[0m\u001b[1;33m)\u001b[0m\u001b[1;33m)\u001b[0m\u001b[1;33m\u001b[0m\u001b[0m\n\u001b[1;32m      5\u001b[0m \u001b[1;31m# Original dataset shape Counter({1: 900, 0: 100})\u001b[0m\u001b[1;33m\u001b[0m\u001b[1;33m\u001b[0m\u001b[0m\n",
      "\u001b[0;31mNameError\u001b[0m: name 'make_classification' is not defined"
     ]
    }
   ],
   "source": [
    "# EXAMPLE\n",
    "X_e, y_e = make_classification(n_classes=2, class_sep=2, weights=[0.1, 0.9], n_informative=3, n_redundant=1, flip_y=0, n_features=20, n_clusters_per_class=1, n_samples=1000, random_state=10)\n",
    "\n",
    "print('Original dataset shape {}'.format(Counter(y)))\n",
    "# Original dataset shape Counter({1: 900, 0: 100})\n",
    "ros = RandomOverSampler(random_state=42)\n",
    "X_res, y_res = ros.fit_sample(X_e, y_e)\n",
    "print('Resampled dataset shape {}'.format(Counter(y_res)))\n",
    "# Resampled dataset shape Counter({0: 900, 1: 900})"
   ]
  },
  {
   "cell_type": "code",
   "execution_count": 24,
   "metadata": {
    "collapsed": false
   },
   "outputs": [
    {
     "ename": "NameError",
     "evalue": "name 'Counter' is not defined",
     "output_type": "error",
     "traceback": [
      "\u001b[0;31m---------------------------------------------------------------------------\u001b[0m",
      "\u001b[0;31mNameError\u001b[0m                                 Traceback (most recent call last)",
      "\u001b[0;32m<ipython-input-24-1c0c3ec40b4c>\u001b[0m in \u001b[0;36m<module>\u001b[0;34m()\u001b[0m\n\u001b[1;32m      1\u001b[0m \u001b[1;31m# actaul\u001b[0m\u001b[1;33m\u001b[0m\u001b[1;33m\u001b[0m\u001b[0m\n\u001b[1;32m      2\u001b[0m \u001b[1;33m\u001b[0m\u001b[0m\n\u001b[0;32m----> 3\u001b[0;31m \u001b[1;32mprint\u001b[0m\u001b[1;33m(\u001b[0m\u001b[1;34m'Original dataset shape {}'\u001b[0m\u001b[1;33m.\u001b[0m\u001b[0mformat\u001b[0m\u001b[1;33m(\u001b[0m\u001b[0mCounter\u001b[0m\u001b[1;33m(\u001b[0m\u001b[0my\u001b[0m\u001b[1;33m)\u001b[0m\u001b[1;33m)\u001b[0m\u001b[1;33m)\u001b[0m\u001b[1;33m\u001b[0m\u001b[0m\n\u001b[0m\u001b[1;32m      4\u001b[0m \u001b[1;31m# Original dataset shape Counter({1: 900, 0: 100})\u001b[0m\u001b[1;33m\u001b[0m\u001b[1;33m\u001b[0m\u001b[0m\n\u001b[1;32m      5\u001b[0m \u001b[0mros\u001b[0m \u001b[1;33m=\u001b[0m \u001b[0mRandomOverSampler\u001b[0m\u001b[1;33m(\u001b[0m\u001b[0mrandom_state\u001b[0m\u001b[1;33m=\u001b[0m\u001b[1;36m42\u001b[0m\u001b[1;33m)\u001b[0m\u001b[1;33m\u001b[0m\u001b[0m\n",
      "\u001b[0;31mNameError\u001b[0m: name 'Counter' is not defined"
     ]
    }
   ],
   "source": [
    "# actual\n",
    "\n",
    "print('Original dataset shape {}'.format(Counter(y)))\n",
    "# Original dataset shape Counter({1: 900, 0: 100})\n",
    "ros = RandomOverSampler(random_state=42)\n",
    "X_res, y_res = ros.fit_sample(Xs, y)\n",
    "print('Resampled dataset shape {}'.format(Counter(y_res)))\n",
    "# Resampled dataset shape Counter({0: 900, 1: 900})"
   ]
  },
  {
   "cell_type": "code",
   "execution_count": 25,
   "metadata": {
    "collapsed": false
   },
   "outputs": [
    {
     "ename": "NameError",
     "evalue": "name 'X_res' is not defined",
     "output_type": "error",
     "traceback": [
      "\u001b[0;31m---------------------------------------------------------------------------\u001b[0m",
      "\u001b[0;31mNameError\u001b[0m                                 Traceback (most recent call last)",
      "\u001b[0;32m<ipython-input-25-bb81bac339f1>\u001b[0m in \u001b[0;36m<module>\u001b[0;34m()\u001b[0m\n\u001b[0;32m----> 1\u001b[0;31m \u001b[0mlen\u001b[0m\u001b[1;33m(\u001b[0m\u001b[0mX_res\u001b[0m\u001b[1;33m)\u001b[0m\u001b[1;33m,\u001b[0m \u001b[0mlen\u001b[0m\u001b[1;33m(\u001b[0m\u001b[0my_res\u001b[0m\u001b[1;33m)\u001b[0m\u001b[1;33m\u001b[0m\u001b[0m\n\u001b[0m",
      "\u001b[0;31mNameError\u001b[0m: name 'X_res' is not defined"
     ]
    }
   ],
   "source": [
    "len(X_res), len(y_res)"
   ]
  },
  {
   "cell_type": "markdown",
   "metadata": {},
   "source": [
    "### Classification with cross-validation\n",
    "\n",
    "Initially, the support vector machines (SVMs) learning algorithm will be used to build the predictive model.\n",
    "\n",
    "SVMs are one of the most popular classification algorithms, and have an elegant way of transforming nonlinear data so that one can use a linear algorithm to fit a linear model to the data (Cortes and Vapnik 1995).\n",
    "\n",
    "Splitting the data into test and training sets is crucial to avoid overfitting and, therefore, allows you to generalize to real, previously-unseen data. Cross-validation extends this idea further. Instead of having a single train/test split, we can specify so-called folds so that the data is divided into similarly-sized folds. Training occurs by taking all folds except one – referred to as the holdout sample. On the completion of the training, you test the performance of your fitted model using the holdout sample. The holdout sample is then thrown back with the rest of the other folds, and a different fold is pulled out as the new holdout sample. Training is repeated again with the remaining folds and we measure performance using the holdout sample. This process is repeated until each fold has had a chance to be a test or holdout sample. The expected performance of the classifier, called cross-validation error, is then simply an average of error rates computed on each holdout sample. This process is demonstrated by first performing a standard train/test split, and then computing cross-validation error.\n"
   ]
  },
  {
   "cell_type": "code",
   "execution_count": 276,
   "metadata": {
    "collapsed": false
   },
   "outputs": [],
   "source": [
    "# 5. Divide records in training and testing sets.\n",
    "X_res_train, X_res_test, y_res_train, y_res_test = train_test_split(X_res, y_res, test_size=0.3, random_state=2, stratify=y_res)\n",
    "\n",
    "\n",
    "\n"
   ]
  },
  {
   "cell_type": "code",
   "execution_count": 278,
   "metadata": {
    "collapsed": false
   },
   "outputs": [
    {
     "data": {
      "text/plain": [
       "SVC(C=1.0, cache_size=200, class_weight=None, coef0=0.0,\n",
       "  decision_function_shape=None, degree=3, gamma='auto', kernel='rbf',\n",
       "  max_iter=-1, probability=True, random_state=None, shrinking=True,\n",
       "  tol=0.001, verbose=False)"
      ]
     },
     "execution_count": 278,
     "metadata": {},
     "output_type": "execute_result"
    }
   ],
   "source": [
    "# 6. Create an SVM classifier and train it on 70% of the data set.\n",
    "\n",
    "start_time = timeit.default_timer()\n",
    "\n",
    "clf = SVC(probability=True)\n",
    "clf.fit(X_res_train, y_res_train)\n",
    "\n",
    "elapsed_svm = timeit.default_timer() - start_time"
   ]
  },
  {
   "cell_type": "code",
   "execution_count": 281,
   "metadata": {
    "collapsed": false
   },
   "outputs": [
    {
     "name": "stdout",
     "output_type": "stream",
     "text": [
      "\n",
      "The classifier accuracy score is 0.75\n",
      "\n"
     ]
    }
   ],
   "source": [
    "# 7. Analyze accuracy of predictions on 30% of the holdout test sample.\n",
    "start_time = timeit.default_timer()\n",
    "\n",
    "classifier_score = clf.score(X_test, y_test)\n",
    "print '\\nThe classifier accuracy score is {:.2f}\\n'.format(classifier_score)\n",
    "\n",
    "elapsed_svm_score = timeit.default_timer() - start_time"
   ]
  },
  {
   "cell_type": "markdown",
   "metadata": {},
   "source": [
    "### k-fold cross validation"
   ]
  },
  {
   "cell_type": "code",
   "execution_count": 292,
   "metadata": {
    "collapsed": false
   },
   "outputs": [
    {
     "name": "stdout",
     "output_type": "stream",
     "text": [
      "\n",
      "The 3-fold cross-validation accuracy score for this classifier is 0.98\n",
      "\n"
     ]
    }
   ],
   "source": [
    "# Get average of 3-fold cross-validation score using an SVC estimator.\n",
    "start_time = timeit.default_timer()\n",
    "\n",
    "n_folds = 3\n",
    "cv_error = np.average(cross_val_score(SVC(), Xs, y, cv=n_folds))\n",
    "print '\\nThe {}-fold cross-validation accuracy score for this classifier is {:.2f}\\n'.format(n_folds, cv_error)\n",
    "\n",
    "elapsed_svm_k_fold = timeit.default_timer() - start_time"
   ]
  },
  {
   "cell_type": "markdown",
   "metadata": {
    "collapsed": true
   },
   "source": [
    "The above evaluations were based on using the entire set of features. You will now employ the correlation-based feature selection strategy to assess the effect of using 100 features which have the best correlation with the class labels.\n"
   ]
  },
  {
   "cell_type": "markdown",
   "metadata": {},
   "source": [
    "### feature selection"
   ]
  },
  {
   "cell_type": "code",
   "execution_count": 293,
   "metadata": {
    "collapsed": false
   },
   "outputs": [],
   "source": [
    "start_time = timeit.default_timer()\n",
    "\n",
    "clf2 = make_pipeline(SelectKBest(f_regression, k=100),\n",
    "                    SVC(probability=True))\n",
    "\n",
    "scores = cross_val_score(clf2, Xs, y, cv=3)\n",
    "\n",
    "elapsed_svm_feature_selection = timeit.default_timer() - start_time"
   ]
  },
  {
   "cell_type": "code",
   "execution_count": 294,
   "metadata": {
    "collapsed": false
   },
   "outputs": [
    {
     "name": "stdout",
     "output_type": "stream",
     "text": [
      "[ 0.9823916   0.9823916   0.98239097]\n",
      "Average score and uncertainty: (98.24 +- 0.000)%\n"
     ]
    }
   ],
   "source": [
    "start_time = timeit.default_timer()\n",
    "\n",
    "print scores\n",
    "avg = (100*np.mean(scores), 100*np.std(scores)/np.sqrt(scores.shape[0]))\n",
    "print \"Average score and uncertainty: (%.2f +- %.3f)%%\"%avg\n",
    "\n",
    "elapsed_svm_feature_scores = timeit.default_timer() - start_time"
   ]
  },
  {
   "cell_type": "markdown",
   "metadata": {},
   "source": [
    "### confusion matrix"
   ]
  },
  {
   "cell_type": "markdown",
   "metadata": {},
   "source": [
    "\n",
    "~~~~\n",
    "                        Model says \"+\"     Model says  \"-\"\n",
    "\n",
    "      Actual: \"+\"       True positive   |   False negative\n",
    "                      ----------------------------------\n",
    "      Actual: \"-\"       False positive  |   True negative\n",
    "  \n",
    "~~~~\n",
    "\n"
   ]
  },
  {
   "cell_type": "code",
   "execution_count": 26,
   "metadata": {
    "collapsed": false
   },
   "outputs": [
    {
     "ename": "NameError",
     "evalue": "name 'timeit' is not defined",
     "output_type": "error",
     "traceback": [
      "\u001b[0;31m---------------------------------------------------------------------------\u001b[0m",
      "\u001b[0;31mNameError\u001b[0m                                 Traceback (most recent call last)",
      "\u001b[0;32m<ipython-input-26-400d9d1378d4>\u001b[0m in \u001b[0;36m<module>\u001b[0;34m()\u001b[0m\n\u001b[0;32m----> 1\u001b[0;31m \u001b[0mstart_time\u001b[0m \u001b[1;33m=\u001b[0m \u001b[0mtimeit\u001b[0m\u001b[1;33m.\u001b[0m\u001b[0mdefault_timer\u001b[0m\u001b[1;33m(\u001b[0m\u001b[1;33m)\u001b[0m\u001b[1;33m\u001b[0m\u001b[0m\n\u001b[0m\u001b[1;32m      2\u001b[0m \u001b[1;33m\u001b[0m\u001b[0m\n\u001b[1;32m      3\u001b[0m \u001b[1;31m# The confusion matrix helps visualize the performance of the algorithm.\u001b[0m\u001b[1;33m\u001b[0m\u001b[1;33m\u001b[0m\u001b[0m\n\u001b[1;32m      4\u001b[0m \u001b[0my_pred\u001b[0m \u001b[1;33m=\u001b[0m \u001b[0mclf\u001b[0m\u001b[1;33m.\u001b[0m\u001b[0mfit\u001b[0m\u001b[1;33m(\u001b[0m\u001b[0mX_train\u001b[0m\u001b[1;33m,\u001b[0m \u001b[0my_train\u001b[0m\u001b[1;33m)\u001b[0m\u001b[1;33m.\u001b[0m\u001b[0mpredict\u001b[0m\u001b[1;33m(\u001b[0m\u001b[0mX_test\u001b[0m\u001b[1;33m)\u001b[0m\u001b[1;33m\u001b[0m\u001b[0m\n\u001b[1;32m      5\u001b[0m \u001b[0mcm\u001b[0m \u001b[1;33m=\u001b[0m \u001b[0mmetrics\u001b[0m\u001b[1;33m.\u001b[0m\u001b[0mconfusion_matrix\u001b[0m\u001b[1;33m(\u001b[0m\u001b[0my_test\u001b[0m\u001b[1;33m,\u001b[0m \u001b[0my_pred\u001b[0m\u001b[1;33m)\u001b[0m\u001b[1;33m\u001b[0m\u001b[0m\n",
      "\u001b[0;31mNameError\u001b[0m: name 'timeit' is not defined"
     ]
    }
   ],
   "source": [
    "start_time = timeit.default_timer()\n",
    "\n",
    "# The confusion matrix helps visualize the performance of the algorithm.\n",
    "y_pred = clf.fit(X_train, y_train).predict(X_test)\n",
    "cm = metrics.confusion_matrix(y_test, y_pred)\n",
    "\n",
    "print(cm)\n",
    "\n",
    "elapsed_confusion_matrix = timeit.default_timer() - start_time"
   ]
  },
  {
   "cell_type": "markdown",
   "metadata": {},
   "source": [
    "### ROC"
   ]
  },
  {
   "cell_type": "code",
   "execution_count": 27,
   "metadata": {
    "collapsed": false
   },
   "outputs": [
    {
     "ename": "NameError",
     "evalue": "name 'timeit' is not defined",
     "output_type": "error",
     "traceback": [
      "\u001b[0;31m---------------------------------------------------------------------------\u001b[0m",
      "\u001b[0;31mNameError\u001b[0m                                 Traceback (most recent call last)",
      "\u001b[0;32m<ipython-input-27-9245810f473b>\u001b[0m in \u001b[0;36m<module>\u001b[0;34m()\u001b[0m\n\u001b[1;32m      1\u001b[0m \u001b[1;31m# Plot the receiver operating characteristic curve (ROC).\u001b[0m\u001b[1;33m\u001b[0m\u001b[1;33m\u001b[0m\u001b[0m\n\u001b[1;32m      2\u001b[0m \u001b[1;33m\u001b[0m\u001b[0m\n\u001b[0;32m----> 3\u001b[0;31m \u001b[0mstart_time\u001b[0m \u001b[1;33m=\u001b[0m \u001b[0mtimeit\u001b[0m\u001b[1;33m.\u001b[0m\u001b[0mdefault_timer\u001b[0m\u001b[1;33m(\u001b[0m\u001b[1;33m)\u001b[0m\u001b[1;33m\u001b[0m\u001b[0m\n\u001b[0m\u001b[1;32m      4\u001b[0m \u001b[1;33m\u001b[0m\u001b[0m\n\u001b[1;32m      5\u001b[0m \u001b[1;33m\u001b[0m\u001b[0m\n",
      "\u001b[0;31mNameError\u001b[0m: name 'timeit' is not defined"
     ]
    }
   ],
   "source": [
    "# Plot the receiver operating characteristic curve (ROC).\n",
    "\n",
    "start_time = timeit.default_timer()\n",
    "\n",
    "\n",
    "plt.figure(figsize=(20,10))\n",
    "probas_ = clf.predict_proba(X_test)\n",
    "fpr, tpr, thresholds = roc_curve(y_test, probas_[:, 1])\n",
    "roc_auc = auc(fpr, tpr)\n",
    "print roc_auc, \"roc_auc\" # my addition\n",
    "plt.plot(fpr, tpr, lw=1, label='ROC fold (area = %0.2f)' % (roc_auc))\n",
    "plt.plot([0, 1], [0, 1], '--', color=(0.6, 0.6, 0.6), label='Random')\n",
    "plt.xlim([-0.05, 1.05])\n",
    "plt.ylim([-0.05, 1.05])\n",
    "plt.xlabel('False Positive Rate')\n",
    "plt.ylabel('True Positive Rate')\n",
    "plt.title('Receiver operating characteristic example')\n",
    "plt.axes().set_aspect(1)\n",
    "\n",
    "elapsed_roc_svm = timeit.default_timer() - start_time"
   ]
  },
  {
   "cell_type": "markdown",
   "metadata": {},
   "source": [
    "## 3.1 Using other classifiers\n",
    "\n",
    "The SVM classifier is only one of the classifiers that you have at your disposal. There are other classification methods implemented in Scikit-learn (as well as Mlxtend) that you can easily use. These include:\n",
    "\n",
    "- Random forests with ``ensemble.RandomForestClassifier()``;\n",
    "- Decision trees with ``tree.DecisionTreeClassifier()``;\n",
    "- K-nearest neighbors with ``neighbors.KNeighborsClassifier()``;\n",
    "\n",
    "- Perceptron (both gradient and stochastic gradient) with ``mlxtend.classifier.Perceptron``; and \n",
    "- Multilayer perceptron network (both gradient and stochastic gradient) with ``mlxtend.classifier.MultiLayerPerceptron``.\n",
    "\n",
    "It is important to understand the underlying technique, as well as the corresponding implementation, in order to correctly interpret the output, or tune the estimator parameters. The following example illustrates the use of some of these classifiers on the data set, using the above-mentioned libraries."
   ]
  },
  {
   "cell_type": "markdown",
   "metadata": {},
   "source": [
    "### random forest"
   ]
  },
  {
   "cell_type": "code",
   "execution_count": 317,
   "metadata": {
    "collapsed": false
   },
   "outputs": [
    {
     "name": "stdout",
     "output_type": "stream",
     "text": [
      "\n",
      "The 10-fold cross-validation accuracy score for this classifier is 0.98\n",
      "\n"
     ]
    }
   ],
   "source": [
    "# Create an instance of random forest classifier, fit the data, and assess performance on test data.\n",
    "start_time = timeit.default_timer()\n",
    "\n",
    "clf_rf = ensemble.RandomForestClassifier(n_estimators=200,n_jobs=-1,max_depth=5 )    \n",
    "n_folds = 10\n",
    "cv_error = np.average(cross_val_score(clf_rf, \n",
    "                                      X_train, \n",
    "                                      y_train, \n",
    "                                      cv=n_folds))\n",
    "clf_rf.fit(X_train, y_train)\n",
    "print '\\nThe {}-fold cross-validation accuracy score for this classifier is {:.2f}\\n'.format(n_folds, cv_error)\n",
    "\n",
    "elapsed_random_forest = timeit.default_timer() - start_time"
   ]
  },
  {
   "cell_type": "markdown",
   "metadata": {},
   "source": [
    "### logistic regression classifier"
   ]
  },
  {
   "cell_type": "code",
   "execution_count": 301,
   "metadata": {
    "collapsed": false
   },
   "outputs": [
    {
     "name": "stdout",
     "output_type": "stream",
     "text": [
      "\n",
      "The 3-fold cross-validation accuracy score for this classifier is 0.98\n",
      "\n"
     ]
    }
   ],
   "source": [
    "# Create an instance of logistic regression classifier, fit the data, and assess performance on test data.\n",
    "start_time = timeit.default_timer()\n",
    "\n",
    "clf_logreg = linear_model.LogisticRegression(C=1e5)    \n",
    "n_folds = 3\n",
    "cv_error = np.average(cross_val_score(clf_logreg, \n",
    "                                      X_train, \n",
    "                                      y_train, \n",
    "                                      cv=n_folds))\n",
    "clf_logreg.fit(X_train, y_train)\n",
    "print '\\nThe {}-fold cross-validation accuracy score for this classifier is {:.2f}\\n'.format(n_folds, cv_error) \n",
    "\n",
    "elapsed_logistic_regression = timeit.default_timer() - start_time"
   ]
  },
  {
   "cell_type": "markdown",
   "metadata": {},
   "source": [
    "### decision tree"
   ]
  },
  {
   "cell_type": "code",
   "execution_count": 302,
   "metadata": {
    "collapsed": false
   },
   "outputs": [
    {
     "name": "stdout",
     "output_type": "stream",
     "text": [
      "\n",
      "The 3-fold cross-validation accuracy score for this classifier is 0.97\n",
      "\n"
     ]
    }
   ],
   "source": [
    "# Create an instance of decision tree classifier, fit the data, and assess performance on test data.\n",
    "start_time = timeit.default_timer()\n",
    "\n",
    "clf_tree = tree.DecisionTreeClassifier()\n",
    "n_folds = 3\n",
    "cv_error = np.average(cross_val_score(clf_tree, \n",
    "                                      X_train, \n",
    "                                      y_train, \n",
    "                                      cv=n_folds))\n",
    "clf_tree = clf_tree.fit(X_train, y_train)\n",
    "print '\\nThe {}-fold cross-validation accuracy score for this classifier is {:.2f}\\n'.format(n_folds, cv_error)\n",
    "\n",
    "elapsed_decision_tree = timeit.default_timer() - start_time"
   ]
  },
  {
   "cell_type": "markdown",
   "metadata": {},
   "source": [
    "### multilayer perceptron classifier (gradient descent)"
   ]
  },
  {
   "cell_type": "code",
   "execution_count": 303,
   "metadata": {
    "collapsed": false
   },
   "outputs": [
    {
     "ename": "IndexError",
     "evalue": "indices are out-of-bounds",
     "output_type": "error",
     "traceback": [
      "\u001b[0;31m---------------------------------------------------------------------------\u001b[0m",
      "\u001b[0;31mIndexError\u001b[0m                                Traceback (most recent call last)",
      "\u001b[0;32m<ipython-input-303-abb43dd03c9e>\u001b[0m in \u001b[0;36m<module>\u001b[0;34m()\u001b[0m\n\u001b[1;32m      3\u001b[0m \u001b[1;33m\u001b[0m\u001b[0m\n\u001b[1;32m      4\u001b[0m \u001b[0mclf_nn1\u001b[0m \u001b[1;33m=\u001b[0m \u001b[0mMLP\u001b[0m\u001b[1;33m(\u001b[0m\u001b[0mhidden_layers\u001b[0m\u001b[1;33m=\u001b[0m\u001b[1;33m[\u001b[0m\u001b[1;36m40\u001b[0m\u001b[1;33m]\u001b[0m\u001b[1;33m,\u001b[0m\u001b[0ml2\u001b[0m\u001b[1;33m=\u001b[0m\u001b[1;36m0.00\u001b[0m\u001b[1;33m,\u001b[0m\u001b[0ml1\u001b[0m\u001b[1;33m=\u001b[0m\u001b[1;36m0.0\u001b[0m\u001b[1;33m,\u001b[0m\u001b[0mepochs\u001b[0m\u001b[1;33m=\u001b[0m\u001b[1;36m150\u001b[0m\u001b[1;33m,\u001b[0m\u001b[0meta\u001b[0m\u001b[1;33m=\u001b[0m\u001b[1;36m0.05\u001b[0m\u001b[1;33m,\u001b[0m\u001b[0mmomentum\u001b[0m\u001b[1;33m=\u001b[0m\u001b[1;36m0.1\u001b[0m\u001b[1;33m,\u001b[0m\u001b[0mdecrease_const\u001b[0m\u001b[1;33m=\u001b[0m\u001b[1;36m0.0\u001b[0m\u001b[1;33m,\u001b[0m\u001b[0mminibatches\u001b[0m\u001b[1;33m=\u001b[0m\u001b[1;36m1\u001b[0m\u001b[1;33m,\u001b[0m\u001b[0mrandom_seed\u001b[0m\u001b[1;33m=\u001b[0m\u001b[1;36m1\u001b[0m\u001b[1;33m,\u001b[0m\u001b[0mprint_progress\u001b[0m\u001b[1;33m=\u001b[0m\u001b[1;36m3\u001b[0m\u001b[1;33m)\u001b[0m\u001b[1;33m\u001b[0m\u001b[0m\n\u001b[0;32m----> 5\u001b[0;31m \u001b[0mclf_nn1\u001b[0m \u001b[1;33m=\u001b[0m \u001b[0mclf_nn1\u001b[0m\u001b[1;33m.\u001b[0m\u001b[0mfit\u001b[0m\u001b[1;33m(\u001b[0m\u001b[0mX_train\u001b[0m\u001b[1;33m,\u001b[0m \u001b[0my_train\u001b[0m\u001b[1;33m)\u001b[0m\u001b[1;33m\u001b[0m\u001b[0m\n\u001b[0m\u001b[1;32m      6\u001b[0m \u001b[0mclf_nn1\u001b[0m\u001b[1;33m.\u001b[0m\u001b[0mscore\u001b[0m\u001b[1;33m(\u001b[0m\u001b[0mX_test\u001b[0m\u001b[1;33m,\u001b[0m \u001b[0my_test\u001b[0m\u001b[1;33m)\u001b[0m\u001b[1;33m\u001b[0m\u001b[0m\n\u001b[1;32m      7\u001b[0m \u001b[1;33m\u001b[0m\u001b[0m\n",
      "\u001b[0;32mC:\\ProgramData\\Anaconda2\\lib\\site-packages\\mlxtend\\_base\\_classifier.pyc\u001b[0m in \u001b[0;36mfit\u001b[0;34m(self, X, y, init_params)\u001b[0m\n\u001b[1;32m     76\u001b[0m         \u001b[1;32mif\u001b[0m \u001b[0mhasattr\u001b[0m\u001b[1;33m(\u001b[0m\u001b[0mself\u001b[0m\u001b[1;33m,\u001b[0m \u001b[1;34m'self.random_seed'\u001b[0m\u001b[1;33m)\u001b[0m \u001b[1;32mand\u001b[0m \u001b[0mself\u001b[0m\u001b[1;33m.\u001b[0m\u001b[0mrandom_seed\u001b[0m\u001b[1;33m:\u001b[0m\u001b[1;33m\u001b[0m\u001b[0m\n\u001b[1;32m     77\u001b[0m             \u001b[0mself\u001b[0m\u001b[1;33m.\u001b[0m\u001b[0m_rgen\u001b[0m \u001b[1;33m=\u001b[0m \u001b[0mnp\u001b[0m\u001b[1;33m.\u001b[0m\u001b[0mrandom\u001b[0m\u001b[1;33m.\u001b[0m\u001b[0mRandomState\u001b[0m\u001b[1;33m(\u001b[0m\u001b[0mself\u001b[0m\u001b[1;33m.\u001b[0m\u001b[0mrandom_seed\u001b[0m\u001b[1;33m)\u001b[0m\u001b[1;33m\u001b[0m\u001b[0m\n\u001b[0;32m---> 78\u001b[0;31m         \u001b[0mself\u001b[0m\u001b[1;33m.\u001b[0m\u001b[0m_fit\u001b[0m\u001b[1;33m(\u001b[0m\u001b[0mX\u001b[0m\u001b[1;33m=\u001b[0m\u001b[0mX\u001b[0m\u001b[1;33m,\u001b[0m \u001b[0my\u001b[0m\u001b[1;33m=\u001b[0m\u001b[0my\u001b[0m\u001b[1;33m,\u001b[0m \u001b[0minit_params\u001b[0m\u001b[1;33m=\u001b[0m\u001b[0minit_params\u001b[0m\u001b[1;33m)\u001b[0m\u001b[1;33m\u001b[0m\u001b[0m\n\u001b[0m\u001b[1;32m     79\u001b[0m         \u001b[0mself\u001b[0m\u001b[1;33m.\u001b[0m\u001b[0m_is_fitted\u001b[0m \u001b[1;33m=\u001b[0m \u001b[0mTrue\u001b[0m\u001b[1;33m\u001b[0m\u001b[0m\n\u001b[1;32m     80\u001b[0m         \u001b[1;32mreturn\u001b[0m \u001b[0mself\u001b[0m\u001b[1;33m\u001b[0m\u001b[0m\n",
      "\u001b[0;32mC:\\ProgramData\\Anaconda2\\lib\\site-packages\\mlxtend\\classifier\\multilayerperceptron.pyc\u001b[0m in \u001b[0;36m_fit\u001b[0;34m(self, X, y, init_params)\u001b[0m\n\u001b[1;32m    138\u001b[0m                     shuffle=True):\n\u001b[1;32m    139\u001b[0m \u001b[1;33m\u001b[0m\u001b[0m\n\u001b[0;32m--> 140\u001b[0;31m                 \u001b[0mnet_1\u001b[0m\u001b[1;33m,\u001b[0m \u001b[0mact_1\u001b[0m\u001b[1;33m,\u001b[0m \u001b[0mnet_out\u001b[0m\u001b[1;33m,\u001b[0m \u001b[0mact_out\u001b[0m \u001b[1;33m=\u001b[0m \u001b[0mself\u001b[0m\u001b[1;33m.\u001b[0m\u001b[0m_feedforward\u001b[0m\u001b[1;33m(\u001b[0m\u001b[0mX\u001b[0m\u001b[1;33m[\u001b[0m\u001b[0midx\u001b[0m\u001b[1;33m]\u001b[0m\u001b[1;33m)\u001b[0m\u001b[1;33m\u001b[0m\u001b[0m\n\u001b[0m\u001b[1;32m    141\u001b[0m \u001b[1;33m\u001b[0m\u001b[0m\n\u001b[1;32m    142\u001b[0m                 \u001b[1;31m# GRADIENTS VIA BACKPROPAGATION\u001b[0m\u001b[1;33m\u001b[0m\u001b[1;33m\u001b[0m\u001b[0m\n",
      "\u001b[0;32mC:\\ProgramData\\Anaconda2\\lib\\site-packages\\pandas\\core\\frame.pyc\u001b[0m in \u001b[0;36m__getitem__\u001b[0;34m(self, key)\u001b[0m\n\u001b[1;32m   2051\u001b[0m         \u001b[1;32mif\u001b[0m \u001b[0misinstance\u001b[0m\u001b[1;33m(\u001b[0m\u001b[0mkey\u001b[0m\u001b[1;33m,\u001b[0m \u001b[1;33m(\u001b[0m\u001b[0mSeries\u001b[0m\u001b[1;33m,\u001b[0m \u001b[0mnp\u001b[0m\u001b[1;33m.\u001b[0m\u001b[0mndarray\u001b[0m\u001b[1;33m,\u001b[0m \u001b[0mIndex\u001b[0m\u001b[1;33m,\u001b[0m \u001b[0mlist\u001b[0m\u001b[1;33m)\u001b[0m\u001b[1;33m)\u001b[0m\u001b[1;33m:\u001b[0m\u001b[1;33m\u001b[0m\u001b[0m\n\u001b[1;32m   2052\u001b[0m             \u001b[1;31m# either boolean or fancy integer index\u001b[0m\u001b[1;33m\u001b[0m\u001b[1;33m\u001b[0m\u001b[0m\n\u001b[0;32m-> 2053\u001b[0;31m             \u001b[1;32mreturn\u001b[0m \u001b[0mself\u001b[0m\u001b[1;33m.\u001b[0m\u001b[0m_getitem_array\u001b[0m\u001b[1;33m(\u001b[0m\u001b[0mkey\u001b[0m\u001b[1;33m)\u001b[0m\u001b[1;33m\u001b[0m\u001b[0m\n\u001b[0m\u001b[1;32m   2054\u001b[0m         \u001b[1;32melif\u001b[0m \u001b[0misinstance\u001b[0m\u001b[1;33m(\u001b[0m\u001b[0mkey\u001b[0m\u001b[1;33m,\u001b[0m \u001b[0mDataFrame\u001b[0m\u001b[1;33m)\u001b[0m\u001b[1;33m:\u001b[0m\u001b[1;33m\u001b[0m\u001b[0m\n\u001b[1;32m   2055\u001b[0m             \u001b[1;32mreturn\u001b[0m \u001b[0mself\u001b[0m\u001b[1;33m.\u001b[0m\u001b[0m_getitem_frame\u001b[0m\u001b[1;33m(\u001b[0m\u001b[0mkey\u001b[0m\u001b[1;33m)\u001b[0m\u001b[1;33m\u001b[0m\u001b[0m\n",
      "\u001b[0;32mC:\\ProgramData\\Anaconda2\\lib\\site-packages\\pandas\\core\\frame.pyc\u001b[0m in \u001b[0;36m_getitem_array\u001b[0;34m(self, key)\u001b[0m\n\u001b[1;32m   2096\u001b[0m         \u001b[1;32melse\u001b[0m\u001b[1;33m:\u001b[0m\u001b[1;33m\u001b[0m\u001b[0m\n\u001b[1;32m   2097\u001b[0m             \u001b[0mindexer\u001b[0m \u001b[1;33m=\u001b[0m \u001b[0mself\u001b[0m\u001b[1;33m.\u001b[0m\u001b[0mix\u001b[0m\u001b[1;33m.\u001b[0m\u001b[0m_convert_to_indexer\u001b[0m\u001b[1;33m(\u001b[0m\u001b[0mkey\u001b[0m\u001b[1;33m,\u001b[0m \u001b[0maxis\u001b[0m\u001b[1;33m=\u001b[0m\u001b[1;36m1\u001b[0m\u001b[1;33m)\u001b[0m\u001b[1;33m\u001b[0m\u001b[0m\n\u001b[0;32m-> 2098\u001b[0;31m             \u001b[1;32mreturn\u001b[0m \u001b[0mself\u001b[0m\u001b[1;33m.\u001b[0m\u001b[0mtake\u001b[0m\u001b[1;33m(\u001b[0m\u001b[0mindexer\u001b[0m\u001b[1;33m,\u001b[0m \u001b[0maxis\u001b[0m\u001b[1;33m=\u001b[0m\u001b[1;36m1\u001b[0m\u001b[1;33m,\u001b[0m \u001b[0mconvert\u001b[0m\u001b[1;33m=\u001b[0m\u001b[0mTrue\u001b[0m\u001b[1;33m)\u001b[0m\u001b[1;33m\u001b[0m\u001b[0m\n\u001b[0m\u001b[1;32m   2099\u001b[0m \u001b[1;33m\u001b[0m\u001b[0m\n\u001b[1;32m   2100\u001b[0m     \u001b[1;32mdef\u001b[0m \u001b[0m_getitem_multilevel\u001b[0m\u001b[1;33m(\u001b[0m\u001b[0mself\u001b[0m\u001b[1;33m,\u001b[0m \u001b[0mkey\u001b[0m\u001b[1;33m)\u001b[0m\u001b[1;33m:\u001b[0m\u001b[1;33m\u001b[0m\u001b[0m\n",
      "\u001b[0;32mC:\\ProgramData\\Anaconda2\\lib\\site-packages\\pandas\\core\\generic.pyc\u001b[0m in \u001b[0;36mtake\u001b[0;34m(self, indices, axis, convert, is_copy, **kwargs)\u001b[0m\n\u001b[1;32m   1667\u001b[0m         new_data = self._data.take(indices,\n\u001b[1;32m   1668\u001b[0m                                    \u001b[0maxis\u001b[0m\u001b[1;33m=\u001b[0m\u001b[0mself\u001b[0m\u001b[1;33m.\u001b[0m\u001b[0m_get_block_manager_axis\u001b[0m\u001b[1;33m(\u001b[0m\u001b[0maxis\u001b[0m\u001b[1;33m)\u001b[0m\u001b[1;33m,\u001b[0m\u001b[1;33m\u001b[0m\u001b[0m\n\u001b[0;32m-> 1669\u001b[0;31m                                    convert=True, verify=True)\n\u001b[0m\u001b[1;32m   1670\u001b[0m         \u001b[0mresult\u001b[0m \u001b[1;33m=\u001b[0m \u001b[0mself\u001b[0m\u001b[1;33m.\u001b[0m\u001b[0m_constructor\u001b[0m\u001b[1;33m(\u001b[0m\u001b[0mnew_data\u001b[0m\u001b[1;33m)\u001b[0m\u001b[1;33m.\u001b[0m\u001b[0m__finalize__\u001b[0m\u001b[1;33m(\u001b[0m\u001b[0mself\u001b[0m\u001b[1;33m)\u001b[0m\u001b[1;33m\u001b[0m\u001b[0m\n\u001b[1;32m   1671\u001b[0m \u001b[1;33m\u001b[0m\u001b[0m\n",
      "\u001b[0;32mC:\\ProgramData\\Anaconda2\\lib\\site-packages\\pandas\\core\\internals.pyc\u001b[0m in \u001b[0;36mtake\u001b[0;34m(self, indexer, axis, verify, convert)\u001b[0m\n\u001b[1;32m   3953\u001b[0m         \u001b[0mn\u001b[0m \u001b[1;33m=\u001b[0m \u001b[0mself\u001b[0m\u001b[1;33m.\u001b[0m\u001b[0mshape\u001b[0m\u001b[1;33m[\u001b[0m\u001b[0maxis\u001b[0m\u001b[1;33m]\u001b[0m\u001b[1;33m\u001b[0m\u001b[0m\n\u001b[1;32m   3954\u001b[0m         \u001b[1;32mif\u001b[0m \u001b[0mconvert\u001b[0m\u001b[1;33m:\u001b[0m\u001b[1;33m\u001b[0m\u001b[0m\n\u001b[0;32m-> 3955\u001b[0;31m             \u001b[0mindexer\u001b[0m \u001b[1;33m=\u001b[0m \u001b[0mmaybe_convert_indices\u001b[0m\u001b[1;33m(\u001b[0m\u001b[0mindexer\u001b[0m\u001b[1;33m,\u001b[0m \u001b[0mn\u001b[0m\u001b[1;33m)\u001b[0m\u001b[1;33m\u001b[0m\u001b[0m\n\u001b[0m\u001b[1;32m   3956\u001b[0m \u001b[1;33m\u001b[0m\u001b[0m\n\u001b[1;32m   3957\u001b[0m         \u001b[1;32mif\u001b[0m \u001b[0mverify\u001b[0m\u001b[1;33m:\u001b[0m\u001b[1;33m\u001b[0m\u001b[0m\n",
      "\u001b[0;32mC:\\ProgramData\\Anaconda2\\lib\\site-packages\\pandas\\core\\indexing.pyc\u001b[0m in \u001b[0;36mmaybe_convert_indices\u001b[0;34m(indices, n)\u001b[0m\n\u001b[1;32m   1871\u001b[0m     \u001b[0mmask\u001b[0m \u001b[1;33m=\u001b[0m \u001b[1;33m(\u001b[0m\u001b[0mindices\u001b[0m \u001b[1;33m>=\u001b[0m \u001b[0mn\u001b[0m\u001b[1;33m)\u001b[0m \u001b[1;33m|\u001b[0m \u001b[1;33m(\u001b[0m\u001b[0mindices\u001b[0m \u001b[1;33m<\u001b[0m \u001b[1;36m0\u001b[0m\u001b[1;33m)\u001b[0m\u001b[1;33m\u001b[0m\u001b[0m\n\u001b[1;32m   1872\u001b[0m     \u001b[1;32mif\u001b[0m \u001b[0mmask\u001b[0m\u001b[1;33m.\u001b[0m\u001b[0many\u001b[0m\u001b[1;33m(\u001b[0m\u001b[1;33m)\u001b[0m\u001b[1;33m:\u001b[0m\u001b[1;33m\u001b[0m\u001b[0m\n\u001b[0;32m-> 1873\u001b[0;31m         \u001b[1;32mraise\u001b[0m \u001b[0mIndexError\u001b[0m\u001b[1;33m(\u001b[0m\u001b[1;34m\"indices are out-of-bounds\"\u001b[0m\u001b[1;33m)\u001b[0m\u001b[1;33m\u001b[0m\u001b[0m\n\u001b[0m\u001b[1;32m   1874\u001b[0m     \u001b[1;32mreturn\u001b[0m \u001b[0mindices\u001b[0m\u001b[1;33m\u001b[0m\u001b[0m\n\u001b[1;32m   1875\u001b[0m \u001b[1;33m\u001b[0m\u001b[0m\n",
      "\u001b[0;31mIndexError\u001b[0m: indices are out-of-bounds"
     ]
    }
   ],
   "source": [
    "# Create an instance of multilayer perceptron classifier (gradient descent), fit the data, and assess performance on test data.\n",
    "start_time = timeit.default_timer()\n",
    "\n",
    "clf_nn1 = MLP(hidden_layers=[40],l2=0.00,l1=0.0,epochs=150,eta=0.05,momentum=0.1,decrease_const=0.0,minibatches=1,random_seed=1,print_progress=3)\n",
    "clf_nn1 = clf_nn1.fit(X_train, y_train)\n",
    "clf_nn1.score(X_test, y_test)\n",
    "\n",
    "elapsed_multilayer_perceptron_classifier_gradient_descent = timeit.default_timer() - start_time\n"
   ]
  },
  {
   "cell_type": "markdown",
   "metadata": {},
   "source": [
    "### multilayer perceptron classifier (stochastic gradient descent)"
   ]
  },
  {
   "cell_type": "code",
   "execution_count": 304,
   "metadata": {
    "collapsed": false
   },
   "outputs": [
    {
     "ename": "IndexError",
     "evalue": "indices are out-of-bounds",
     "output_type": "error",
     "traceback": [
      "\u001b[0;31m---------------------------------------------------------------------------\u001b[0m",
      "\u001b[0;31mIndexError\u001b[0m                                Traceback (most recent call last)",
      "\u001b[0;32m<ipython-input-304-d6d4facb2b56>\u001b[0m in \u001b[0;36m<module>\u001b[0;34m()\u001b[0m\n\u001b[1;32m      3\u001b[0m \u001b[1;33m\u001b[0m\u001b[0m\n\u001b[1;32m      4\u001b[0m \u001b[0mclf_nn2\u001b[0m \u001b[1;33m=\u001b[0m \u001b[0mMLP\u001b[0m\u001b[1;33m(\u001b[0m\u001b[0mhidden_layers\u001b[0m\u001b[1;33m=\u001b[0m\u001b[1;33m[\u001b[0m\u001b[1;36m40\u001b[0m\u001b[1;33m]\u001b[0m\u001b[1;33m,\u001b[0m\u001b[0ml2\u001b[0m\u001b[1;33m=\u001b[0m\u001b[1;36m0.00\u001b[0m\u001b[1;33m,\u001b[0m\u001b[0ml1\u001b[0m\u001b[1;33m=\u001b[0m\u001b[1;36m0.0\u001b[0m\u001b[1;33m,\u001b[0m\u001b[0mepochs\u001b[0m\u001b[1;33m=\u001b[0m\u001b[1;36m50\u001b[0m\u001b[1;33m,\u001b[0m\u001b[0meta\u001b[0m\u001b[1;33m=\u001b[0m\u001b[1;36m0.05\u001b[0m\u001b[1;33m,\u001b[0m\u001b[0mmomentum\u001b[0m\u001b[1;33m=\u001b[0m\u001b[1;36m0.1\u001b[0m\u001b[1;33m,\u001b[0m\u001b[0mdecrease_const\u001b[0m\u001b[1;33m=\u001b[0m\u001b[1;36m0.0\u001b[0m\u001b[1;33m,\u001b[0m\u001b[0mminibatches\u001b[0m\u001b[1;33m=\u001b[0m\u001b[0mlen\u001b[0m\u001b[1;33m(\u001b[0m\u001b[0my_train\u001b[0m\u001b[1;33m)\u001b[0m\u001b[1;33m,\u001b[0m\u001b[0mrandom_seed\u001b[0m\u001b[1;33m=\u001b[0m\u001b[1;36m1\u001b[0m\u001b[1;33m,\u001b[0m\u001b[0mprint_progress\u001b[0m\u001b[1;33m=\u001b[0m\u001b[1;36m3\u001b[0m\u001b[1;33m)\u001b[0m\u001b[1;33m\u001b[0m\u001b[0m\n\u001b[0;32m----> 5\u001b[0;31m \u001b[0mclf_nn2\u001b[0m \u001b[1;33m=\u001b[0m \u001b[0mclf_nn2\u001b[0m\u001b[1;33m.\u001b[0m\u001b[0mfit\u001b[0m\u001b[1;33m(\u001b[0m\u001b[0mX_train\u001b[0m\u001b[1;33m,\u001b[0m \u001b[0my_train\u001b[0m\u001b[1;33m)\u001b[0m\u001b[1;33m\u001b[0m\u001b[0m\n\u001b[0m\u001b[1;32m      6\u001b[0m \u001b[0mclf_nn2\u001b[0m\u001b[1;33m.\u001b[0m\u001b[0mscore\u001b[0m\u001b[1;33m(\u001b[0m\u001b[0mX_test\u001b[0m\u001b[1;33m,\u001b[0m \u001b[0my_test\u001b[0m\u001b[1;33m)\u001b[0m\u001b[1;33m\u001b[0m\u001b[0m\n\u001b[1;32m      7\u001b[0m \u001b[1;33m\u001b[0m\u001b[0m\n",
      "\u001b[0;32mC:\\ProgramData\\Anaconda2\\lib\\site-packages\\mlxtend\\_base\\_classifier.pyc\u001b[0m in \u001b[0;36mfit\u001b[0;34m(self, X, y, init_params)\u001b[0m\n\u001b[1;32m     76\u001b[0m         \u001b[1;32mif\u001b[0m \u001b[0mhasattr\u001b[0m\u001b[1;33m(\u001b[0m\u001b[0mself\u001b[0m\u001b[1;33m,\u001b[0m \u001b[1;34m'self.random_seed'\u001b[0m\u001b[1;33m)\u001b[0m \u001b[1;32mand\u001b[0m \u001b[0mself\u001b[0m\u001b[1;33m.\u001b[0m\u001b[0mrandom_seed\u001b[0m\u001b[1;33m:\u001b[0m\u001b[1;33m\u001b[0m\u001b[0m\n\u001b[1;32m     77\u001b[0m             \u001b[0mself\u001b[0m\u001b[1;33m.\u001b[0m\u001b[0m_rgen\u001b[0m \u001b[1;33m=\u001b[0m \u001b[0mnp\u001b[0m\u001b[1;33m.\u001b[0m\u001b[0mrandom\u001b[0m\u001b[1;33m.\u001b[0m\u001b[0mRandomState\u001b[0m\u001b[1;33m(\u001b[0m\u001b[0mself\u001b[0m\u001b[1;33m.\u001b[0m\u001b[0mrandom_seed\u001b[0m\u001b[1;33m)\u001b[0m\u001b[1;33m\u001b[0m\u001b[0m\n\u001b[0;32m---> 78\u001b[0;31m         \u001b[0mself\u001b[0m\u001b[1;33m.\u001b[0m\u001b[0m_fit\u001b[0m\u001b[1;33m(\u001b[0m\u001b[0mX\u001b[0m\u001b[1;33m=\u001b[0m\u001b[0mX\u001b[0m\u001b[1;33m,\u001b[0m \u001b[0my\u001b[0m\u001b[1;33m=\u001b[0m\u001b[0my\u001b[0m\u001b[1;33m,\u001b[0m \u001b[0minit_params\u001b[0m\u001b[1;33m=\u001b[0m\u001b[0minit_params\u001b[0m\u001b[1;33m)\u001b[0m\u001b[1;33m\u001b[0m\u001b[0m\n\u001b[0m\u001b[1;32m     79\u001b[0m         \u001b[0mself\u001b[0m\u001b[1;33m.\u001b[0m\u001b[0m_is_fitted\u001b[0m \u001b[1;33m=\u001b[0m \u001b[0mTrue\u001b[0m\u001b[1;33m\u001b[0m\u001b[0m\n\u001b[1;32m     80\u001b[0m         \u001b[1;32mreturn\u001b[0m \u001b[0mself\u001b[0m\u001b[1;33m\u001b[0m\u001b[0m\n",
      "\u001b[0;32mC:\\ProgramData\\Anaconda2\\lib\\site-packages\\mlxtend\\classifier\\multilayerperceptron.pyc\u001b[0m in \u001b[0;36m_fit\u001b[0;34m(self, X, y, init_params)\u001b[0m\n\u001b[1;32m    138\u001b[0m                     shuffle=True):\n\u001b[1;32m    139\u001b[0m \u001b[1;33m\u001b[0m\u001b[0m\n\u001b[0;32m--> 140\u001b[0;31m                 \u001b[0mnet_1\u001b[0m\u001b[1;33m,\u001b[0m \u001b[0mact_1\u001b[0m\u001b[1;33m,\u001b[0m \u001b[0mnet_out\u001b[0m\u001b[1;33m,\u001b[0m \u001b[0mact_out\u001b[0m \u001b[1;33m=\u001b[0m \u001b[0mself\u001b[0m\u001b[1;33m.\u001b[0m\u001b[0m_feedforward\u001b[0m\u001b[1;33m(\u001b[0m\u001b[0mX\u001b[0m\u001b[1;33m[\u001b[0m\u001b[0midx\u001b[0m\u001b[1;33m]\u001b[0m\u001b[1;33m)\u001b[0m\u001b[1;33m\u001b[0m\u001b[0m\n\u001b[0m\u001b[1;32m    141\u001b[0m \u001b[1;33m\u001b[0m\u001b[0m\n\u001b[1;32m    142\u001b[0m                 \u001b[1;31m# GRADIENTS VIA BACKPROPAGATION\u001b[0m\u001b[1;33m\u001b[0m\u001b[1;33m\u001b[0m\u001b[0m\n",
      "\u001b[0;32mC:\\ProgramData\\Anaconda2\\lib\\site-packages\\pandas\\core\\frame.pyc\u001b[0m in \u001b[0;36m__getitem__\u001b[0;34m(self, key)\u001b[0m\n\u001b[1;32m   2051\u001b[0m         \u001b[1;32mif\u001b[0m \u001b[0misinstance\u001b[0m\u001b[1;33m(\u001b[0m\u001b[0mkey\u001b[0m\u001b[1;33m,\u001b[0m \u001b[1;33m(\u001b[0m\u001b[0mSeries\u001b[0m\u001b[1;33m,\u001b[0m \u001b[0mnp\u001b[0m\u001b[1;33m.\u001b[0m\u001b[0mndarray\u001b[0m\u001b[1;33m,\u001b[0m \u001b[0mIndex\u001b[0m\u001b[1;33m,\u001b[0m \u001b[0mlist\u001b[0m\u001b[1;33m)\u001b[0m\u001b[1;33m)\u001b[0m\u001b[1;33m:\u001b[0m\u001b[1;33m\u001b[0m\u001b[0m\n\u001b[1;32m   2052\u001b[0m             \u001b[1;31m# either boolean or fancy integer index\u001b[0m\u001b[1;33m\u001b[0m\u001b[1;33m\u001b[0m\u001b[0m\n\u001b[0;32m-> 2053\u001b[0;31m             \u001b[1;32mreturn\u001b[0m \u001b[0mself\u001b[0m\u001b[1;33m.\u001b[0m\u001b[0m_getitem_array\u001b[0m\u001b[1;33m(\u001b[0m\u001b[0mkey\u001b[0m\u001b[1;33m)\u001b[0m\u001b[1;33m\u001b[0m\u001b[0m\n\u001b[0m\u001b[1;32m   2054\u001b[0m         \u001b[1;32melif\u001b[0m \u001b[0misinstance\u001b[0m\u001b[1;33m(\u001b[0m\u001b[0mkey\u001b[0m\u001b[1;33m,\u001b[0m \u001b[0mDataFrame\u001b[0m\u001b[1;33m)\u001b[0m\u001b[1;33m:\u001b[0m\u001b[1;33m\u001b[0m\u001b[0m\n\u001b[1;32m   2055\u001b[0m             \u001b[1;32mreturn\u001b[0m \u001b[0mself\u001b[0m\u001b[1;33m.\u001b[0m\u001b[0m_getitem_frame\u001b[0m\u001b[1;33m(\u001b[0m\u001b[0mkey\u001b[0m\u001b[1;33m)\u001b[0m\u001b[1;33m\u001b[0m\u001b[0m\n",
      "\u001b[0;32mC:\\ProgramData\\Anaconda2\\lib\\site-packages\\pandas\\core\\frame.pyc\u001b[0m in \u001b[0;36m_getitem_array\u001b[0;34m(self, key)\u001b[0m\n\u001b[1;32m   2096\u001b[0m         \u001b[1;32melse\u001b[0m\u001b[1;33m:\u001b[0m\u001b[1;33m\u001b[0m\u001b[0m\n\u001b[1;32m   2097\u001b[0m             \u001b[0mindexer\u001b[0m \u001b[1;33m=\u001b[0m \u001b[0mself\u001b[0m\u001b[1;33m.\u001b[0m\u001b[0mix\u001b[0m\u001b[1;33m.\u001b[0m\u001b[0m_convert_to_indexer\u001b[0m\u001b[1;33m(\u001b[0m\u001b[0mkey\u001b[0m\u001b[1;33m,\u001b[0m \u001b[0maxis\u001b[0m\u001b[1;33m=\u001b[0m\u001b[1;36m1\u001b[0m\u001b[1;33m)\u001b[0m\u001b[1;33m\u001b[0m\u001b[0m\n\u001b[0;32m-> 2098\u001b[0;31m             \u001b[1;32mreturn\u001b[0m \u001b[0mself\u001b[0m\u001b[1;33m.\u001b[0m\u001b[0mtake\u001b[0m\u001b[1;33m(\u001b[0m\u001b[0mindexer\u001b[0m\u001b[1;33m,\u001b[0m \u001b[0maxis\u001b[0m\u001b[1;33m=\u001b[0m\u001b[1;36m1\u001b[0m\u001b[1;33m,\u001b[0m \u001b[0mconvert\u001b[0m\u001b[1;33m=\u001b[0m\u001b[0mTrue\u001b[0m\u001b[1;33m)\u001b[0m\u001b[1;33m\u001b[0m\u001b[0m\n\u001b[0m\u001b[1;32m   2099\u001b[0m \u001b[1;33m\u001b[0m\u001b[0m\n\u001b[1;32m   2100\u001b[0m     \u001b[1;32mdef\u001b[0m \u001b[0m_getitem_multilevel\u001b[0m\u001b[1;33m(\u001b[0m\u001b[0mself\u001b[0m\u001b[1;33m,\u001b[0m \u001b[0mkey\u001b[0m\u001b[1;33m)\u001b[0m\u001b[1;33m:\u001b[0m\u001b[1;33m\u001b[0m\u001b[0m\n",
      "\u001b[0;32mC:\\ProgramData\\Anaconda2\\lib\\site-packages\\pandas\\core\\generic.pyc\u001b[0m in \u001b[0;36mtake\u001b[0;34m(self, indices, axis, convert, is_copy, **kwargs)\u001b[0m\n\u001b[1;32m   1667\u001b[0m         new_data = self._data.take(indices,\n\u001b[1;32m   1668\u001b[0m                                    \u001b[0maxis\u001b[0m\u001b[1;33m=\u001b[0m\u001b[0mself\u001b[0m\u001b[1;33m.\u001b[0m\u001b[0m_get_block_manager_axis\u001b[0m\u001b[1;33m(\u001b[0m\u001b[0maxis\u001b[0m\u001b[1;33m)\u001b[0m\u001b[1;33m,\u001b[0m\u001b[1;33m\u001b[0m\u001b[0m\n\u001b[0;32m-> 1669\u001b[0;31m                                    convert=True, verify=True)\n\u001b[0m\u001b[1;32m   1670\u001b[0m         \u001b[0mresult\u001b[0m \u001b[1;33m=\u001b[0m \u001b[0mself\u001b[0m\u001b[1;33m.\u001b[0m\u001b[0m_constructor\u001b[0m\u001b[1;33m(\u001b[0m\u001b[0mnew_data\u001b[0m\u001b[1;33m)\u001b[0m\u001b[1;33m.\u001b[0m\u001b[0m__finalize__\u001b[0m\u001b[1;33m(\u001b[0m\u001b[0mself\u001b[0m\u001b[1;33m)\u001b[0m\u001b[1;33m\u001b[0m\u001b[0m\n\u001b[1;32m   1671\u001b[0m \u001b[1;33m\u001b[0m\u001b[0m\n",
      "\u001b[0;32mC:\\ProgramData\\Anaconda2\\lib\\site-packages\\pandas\\core\\internals.pyc\u001b[0m in \u001b[0;36mtake\u001b[0;34m(self, indexer, axis, verify, convert)\u001b[0m\n\u001b[1;32m   3953\u001b[0m         \u001b[0mn\u001b[0m \u001b[1;33m=\u001b[0m \u001b[0mself\u001b[0m\u001b[1;33m.\u001b[0m\u001b[0mshape\u001b[0m\u001b[1;33m[\u001b[0m\u001b[0maxis\u001b[0m\u001b[1;33m]\u001b[0m\u001b[1;33m\u001b[0m\u001b[0m\n\u001b[1;32m   3954\u001b[0m         \u001b[1;32mif\u001b[0m \u001b[0mconvert\u001b[0m\u001b[1;33m:\u001b[0m\u001b[1;33m\u001b[0m\u001b[0m\n\u001b[0;32m-> 3955\u001b[0;31m             \u001b[0mindexer\u001b[0m \u001b[1;33m=\u001b[0m \u001b[0mmaybe_convert_indices\u001b[0m\u001b[1;33m(\u001b[0m\u001b[0mindexer\u001b[0m\u001b[1;33m,\u001b[0m \u001b[0mn\u001b[0m\u001b[1;33m)\u001b[0m\u001b[1;33m\u001b[0m\u001b[0m\n\u001b[0m\u001b[1;32m   3956\u001b[0m \u001b[1;33m\u001b[0m\u001b[0m\n\u001b[1;32m   3957\u001b[0m         \u001b[1;32mif\u001b[0m \u001b[0mverify\u001b[0m\u001b[1;33m:\u001b[0m\u001b[1;33m\u001b[0m\u001b[0m\n",
      "\u001b[0;32mC:\\ProgramData\\Anaconda2\\lib\\site-packages\\pandas\\core\\indexing.pyc\u001b[0m in \u001b[0;36mmaybe_convert_indices\u001b[0;34m(indices, n)\u001b[0m\n\u001b[1;32m   1871\u001b[0m     \u001b[0mmask\u001b[0m \u001b[1;33m=\u001b[0m \u001b[1;33m(\u001b[0m\u001b[0mindices\u001b[0m \u001b[1;33m>=\u001b[0m \u001b[0mn\u001b[0m\u001b[1;33m)\u001b[0m \u001b[1;33m|\u001b[0m \u001b[1;33m(\u001b[0m\u001b[0mindices\u001b[0m \u001b[1;33m<\u001b[0m \u001b[1;36m0\u001b[0m\u001b[1;33m)\u001b[0m\u001b[1;33m\u001b[0m\u001b[0m\n\u001b[1;32m   1872\u001b[0m     \u001b[1;32mif\u001b[0m \u001b[0mmask\u001b[0m\u001b[1;33m.\u001b[0m\u001b[0many\u001b[0m\u001b[1;33m(\u001b[0m\u001b[1;33m)\u001b[0m\u001b[1;33m:\u001b[0m\u001b[1;33m\u001b[0m\u001b[0m\n\u001b[0;32m-> 1873\u001b[0;31m         \u001b[1;32mraise\u001b[0m \u001b[0mIndexError\u001b[0m\u001b[1;33m(\u001b[0m\u001b[1;34m\"indices are out-of-bounds\"\u001b[0m\u001b[1;33m)\u001b[0m\u001b[1;33m\u001b[0m\u001b[0m\n\u001b[0m\u001b[1;32m   1874\u001b[0m     \u001b[1;32mreturn\u001b[0m \u001b[0mindices\u001b[0m\u001b[1;33m\u001b[0m\u001b[0m\n\u001b[1;32m   1875\u001b[0m \u001b[1;33m\u001b[0m\u001b[0m\n",
      "\u001b[0;31mIndexError\u001b[0m: indices are out-of-bounds"
     ]
    }
   ],
   "source": [
    "# Create an instance of multilayer perceptron classifier (stochastic gradient descent), fit the data, and assess performance on test data.\n",
    "start_time = timeit.default_timer()\n",
    "\n",
    "clf_nn2 = MLP(hidden_layers=[40],l2=0.00,l1=0.0,epochs=50,eta=0.05,momentum=0.1,decrease_const=0.0,minibatches=len(y_train),random_seed=1,print_progress=3)\n",
    "clf_nn2 = clf_nn2.fit(X_train, y_train)\n",
    "clf_nn2.score(X_test, y_test)\n",
    "\n",
    "elapsed_multilayer_perceptron_classifier_stochastic_gradient_descent = timeit.default_timer() - start_time"
   ]
  },
  {
   "cell_type": "markdown",
   "metadata": {},
   "source": [
    "# Plot ROCs"
   ]
  },
  {
   "cell_type": "code",
   "execution_count": 311,
   "metadata": {
    "collapsed": true
   },
   "outputs": [],
   "source": [
    "from matplotlib.backends.backend_pdf import PdfPages"
   ]
  },
  {
   "cell_type": "code",
   "execution_count": 28,
   "metadata": {
    "collapsed": false
   },
   "outputs": [
    {
     "ename": "NameError",
     "evalue": "name 'timeit' is not defined",
     "output_type": "error",
     "traceback": [
      "\u001b[0;31m---------------------------------------------------------------------------\u001b[0m",
      "\u001b[0;31mNameError\u001b[0m                                 Traceback (most recent call last)",
      "\u001b[0;32m<ipython-input-28-5024741fa06d>\u001b[0m in \u001b[0;36m<module>\u001b[0;34m()\u001b[0m\n\u001b[1;32m      1\u001b[0m \u001b[1;31m# Plot the results.\u001b[0m\u001b[1;33m\u001b[0m\u001b[1;33m\u001b[0m\u001b[0m\n\u001b[0;32m----> 2\u001b[0;31m \u001b[0mstart_time\u001b[0m \u001b[1;33m=\u001b[0m \u001b[0mtimeit\u001b[0m\u001b[1;33m.\u001b[0m\u001b[0mdefault_timer\u001b[0m\u001b[1;33m(\u001b[0m\u001b[1;33m)\u001b[0m\u001b[1;33m\u001b[0m\u001b[0m\n\u001b[0m\u001b[1;32m      3\u001b[0m \u001b[1;33m\u001b[0m\u001b[0m\n\u001b[1;32m      4\u001b[0m \u001b[0mcolors\u001b[0m \u001b[1;33m=\u001b[0m \u001b[1;33m[\u001b[0m\u001b[1;34m'b'\u001b[0m\u001b[1;33m,\u001b[0m \u001b[1;34m'g'\u001b[0m\u001b[1;33m,\u001b[0m \u001b[1;34m'r'\u001b[0m\u001b[1;33m,\u001b[0m\u001b[1;34m'c'\u001b[0m\u001b[1;33m,\u001b[0m\u001b[1;34m'm'\u001b[0m\u001b[1;33m,\u001b[0m\u001b[1;34m'k'\u001b[0m\u001b[1;33m,\u001b[0m\u001b[1;34m'y'\u001b[0m\u001b[1;33m]\u001b[0m\u001b[1;33m\u001b[0m\u001b[0m\n\u001b[1;32m      5\u001b[0m \u001b[0mclassifiers\u001b[0m \u001b[1;33m=\u001b[0m \u001b[1;33m[\u001b[0m\u001b[1;34m'svm'\u001b[0m\u001b[1;33m,\u001b[0m\u001b[1;34m'random_forest'\u001b[0m\u001b[1;33m,\u001b[0m \u001b[1;34m'logistic regression'\u001b[0m\u001b[1;33m,\u001b[0m \u001b[1;34m'decision tree'\u001b[0m\u001b[1;33m,\u001b[0m \u001b[1;34m'mlp_gd'\u001b[0m\u001b[1;33m,\u001b[0m \u001b[1;34m'mlp_sgd'\u001b[0m\u001b[1;33m]\u001b[0m\u001b[1;33m\u001b[0m\u001b[0m\n",
      "\u001b[0;31mNameError\u001b[0m: name 'timeit' is not defined"
     ]
    }
   ],
   "source": [
    "# Plot the results.\n",
    "start_time = timeit.default_timer()\n",
    "\n",
    "colors = ['b', 'g', 'r','c','m','k','y']\n",
    "classifiers = ['svm','random_forest', 'logistic regression', 'decision tree', 'mlp_gd', 'mlp_sgd']\n",
    "plt.figure(figsize=(20,10))\n",
    "for i, cl in enumerate([clf, clf_rf, clf_logreg, clf_tree,clf_nn1, clf_nn2]):\n",
    "    probas_ = cl.predict_proba(X_test)\n",
    "    fpr, tpr, thresholds = roc_curve(y_test, probas_[:, 1])\n",
    "    roc_auc = auc(fpr, tpr)\n",
    "    plt.plot(fpr, tpr, lw=1, label=classifiers[i]+' (AUC = %0.2f)' % (roc_auc))\n",
    "    \n",
    "plt.plot([0, 1], [0, 1], '--', color=colors[i], label='Random (AUC = 0.50)')\n",
    "plt.xlim([-0.05, 1.05])\n",
    "plt.ylim([-0.05, 1.05])   \n",
    "plt.xlabel('False Positive Rate')\n",
    "plt.ylabel('True Positive Rate')\n",
    "plt.title('Receiver operating characteristic example')\n",
    "plt.axes().set_aspect(1)\n",
    "plt.legend(loc=\"lower right\")\n",
    "\n",
    "\n",
    "elapsed_ROCs = timeit.default_timer() - start_time"
   ]
  },
  {
   "cell_type": "code",
   "execution_count": 310,
   "metadata": {
    "collapsed": false
   },
   "outputs": [
    {
     "name": "stdout",
     "output_type": "stream",
     "text": [
      "1166.46323129 elapsed_svm_k_fold\n",
      "1816.57242757 elapsed_svm_feature_selection\n",
      "0.00305814007061 elapsed_svm_feature_scores\n",
      "2223.751169 elapsed_confusion_matrix\n",
      "47.5602071632 elapsed_ROC_svm\n",
      "17.6241884793 elapsed_random_forest\n",
      "10.4753598572 elapsed_logistic_regression\n",
      "39.9617342428 elapsed_decision_tree\n",
      "48.5518959114 elapsed_ROCs\n"
     ]
    }
   ],
   "source": [
    "#print elapsed_svm, 'elapsed_svm'\n",
    "# print elapsed_svm_score, 'elapsed_svm_score'\n",
    "print elapsed_svm_k_fold,  'elapsed_svm_k_fold'\n",
    "print elapsed_svm_feature_selection, 'elapsed_svm_feature_selection'\n",
    "print elapsed_svm_feature_scores, 'elapsed_svm_feature_scores'\n",
    "print elapsed_confusion_matrix, 'elapsed_confusion_matrix'\n",
    "print elapsed_roc_svm, 'elapsed_ROC_svm'\n",
    "print elapsed_random_forest, 'elapsed_random_forest'\n",
    "print elapsed_logistic_regression, 'elapsed_logistic_regression'\n",
    "print elapsed_decision_tree, 'elapsed_decision_tree'\n",
    "#print elapsed_multilayer_perceptron_classifier_gradient_descent, 'elapsed_multilayer_perceptron_classifier_gradient_descent'\n",
    "#print elapsed_multilayer_perceptron_classifier_stochastic_gradient_descent, 'elapsed_multilayer_perceptron_classifier_stochastic_gradient_descent'\n",
    "print elapsed_ROCs, 'elapsed_ROCs'"
   ]
  },
  {
   "cell_type": "code",
   "execution_count": 315,
   "metadata": {
    "collapsed": false
   },
   "outputs": [
    {
     "name": "stdout",
     "output_type": "stream",
     "text": [
      "19.4410538548 minutes elapsed_svm_k_fold\n",
      "30.2762071262 minutes elapsed_svm_feature_selection\n",
      "5.09690011768e-05 minutes elapsed_svm_feature_scores\n",
      "37.0625194834 minutes elapsed_confusion_matrix\n",
      "0.792670119387 minutes elapsed_ROC_svm\n",
      "0.293736474654 minutes elapsed_random_forest\n",
      "0.174589330953 minutes elapsed_logistic_regression\n",
      "0.666028904046 minutes elapsed_decision_tree\n",
      "0.799623366936 minutes elapsed_ROCs\n"
     ]
    }
   ],
   "source": [
    "#print elapsed_svm, 'elapsed_svm'\n",
    "# print elapsed_svm_score, 'elapsed_svm_score'\n",
    "print elapsed_svm_k_fold/60.0,  'minutes elapsed_svm_k_fold'\n",
    "print elapsed_svm_feature_selection/60.0, 'minutes elapsed_svm_feature_selection'\n",
    "print elapsed_svm_feature_scores/60.0, 'minutes elapsed_svm_feature_scores'\n",
    "print elapsed_confusion_matrix/60.0, 'minutes elapsed_confusion_matrix'\n",
    "print elapsed_roc_svm/60.0, 'minutes elapsed_ROC_svm'\n",
    "print elapsed_random_forest/60.0, 'minutes elapsed_random_forest'\n",
    "print elapsed_logistic_regression/60.0, 'minutes elapsed_logistic_regression'\n",
    "print elapsed_decision_tree/60.0, 'minutes elapsed_decision_tree'\n",
    "#print elapsed_multilayer_perceptron_classifier_gradient_descent, 'elapsed_multilayer_perceptron_classifier_gradient_descent'\n",
    "#print elapsed_multilayer_perceptron_classifier_stochastic_gradient_descent, 'elapsed_multilayer_perceptron_classifier_stochastic_gradient_descent'\n",
    "print elapsed_ROCs/60.0, 'minutes elapsed_ROCs'"
   ]
  },
  {
   "cell_type": "code",
   "execution_count": null,
   "metadata": {
    "collapsed": true
   },
   "outputs": [],
   "source": []
  },
  {
   "cell_type": "code",
   "execution_count": null,
   "metadata": {
    "collapsed": true
   },
   "outputs": [],
   "source": []
  },
  {
   "cell_type": "code",
   "execution_count": null,
   "metadata": {
    "collapsed": true
   },
   "outputs": [],
   "source": []
  },
  {
   "cell_type": "code",
   "execution_count": null,
   "metadata": {
    "collapsed": true
   },
   "outputs": [],
   "source": []
  },
  {
   "cell_type": "markdown",
   "metadata": {},
   "source": [
    "### <font color='orange'>8. What else? <a id=\"else\"></a></font>"
   ]
  },
  {
   "cell_type": "code",
   "execution_count": null,
   "metadata": {
    "collapsed": true
   },
   "outputs": [],
   "source": []
  }
 ],
 "metadata": {
  "kernelspec": {
   "display_name": "Python 2",
   "language": "python",
   "name": "python2"
  },
  "language_info": {
   "codemirror_mode": {
    "name": "ipython",
    "version": 2
   },
   "file_extension": ".py",
   "mimetype": "text/x-python",
   "name": "python",
   "nbconvert_exporter": "python",
   "pygments_lexer": "ipython2",
   "version": "2.7.13"
  }
 },
 "nbformat": 4,
 "nbformat_minor": 2
}
